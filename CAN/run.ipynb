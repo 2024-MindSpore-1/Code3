{
 "cells": [
  {
   "cell_type": "code",
   "execution_count": 3,
   "id": "b3a39259-0d29-468b-ba35-9a6f4142b306",
   "metadata": {},
   "outputs": [
    {
     "name": "stdout",
     "output_type": "stream",
     "text": [
      "共 111 类符号。\n",
      "AttDecoder\n",
      "共 111 类符号。\n",
      "No optimizer in the pretrained model\n",
      "[]\n",
      "  0%|                                                   | 0/986 [00:00<?, ?it/s]ExpRate: 0.0010141987829614604\n",
      "  0%|                                           | 1/986 [00:02<32:52,  2.00s/it]ExpRate: 0.002028397565922921\n",
      "  0%|                                           | 2/986 [00:02<27:14,  1.66s/it]ExpRate: 0.0030425963488843813\n",
      "  0%|▏                                          | 3/986 [00:04<24:43,  1.51s/it]18_em_12 \\frac { p e ^ { t } } { 1 - ( 1 - b ) e ^ { t } } \\frac { p e ^ { t } } { 1 - ( 1 - p ) e ^ { t } }\n",
      "ExpRate: 0.0030425963488843813\n",
      "  0%|▏                                          | 4/986 [00:05<26:21,  1.61s/it]ExpRate: 0.004056795131845842\n",
      "  1%|▏                                          | 5/986 [00:07<27:24,  1.68s/it]18_em_14 \\frac { d y } { d x } = \\frac { 1 } { d x } \\frac { d y } { d x } = \\frac { 1 } { \\frac { d x } { d y } }\n",
      "ExpRate: 0.004056795131845842\n",
      "  1%|▎                                          | 6/986 [00:09<28:09,  1.72s/it]ExpRate: 0.005070993914807302\n",
      "  1%|▎                                          | 7/986 [00:11<27:17,  1.67s/it]18_em_16 m 2 2 m \\geq 2\n",
      "ExpRate: 0.005070993914807302\n",
      "  1%|▎                                          | 8/986 [00:12<23:59,  1.47s/it]18_em_17 u ( t ) = \\frac { u ( 0 ) } { 1 - \\tan u 0 ) u ( t ) = \\frac { u ( 0 ) } { 1 - t u ( 0 ) }\n",
      "ExpRate: 0.005070993914807302\n",
      "  1%|▍                                          | 9/986 [00:14<26:32,  1.63s/it]ExpRate: 0.006085192697768763\n",
      "  1%|▍                                         | 10/986 [00:15<26:46,  1.65s/it]ExpRate: 0.007099391480730223\n",
      "  1%|▍                                         | 11/986 [00:16<23:42,  1.46s/it]ExpRate: 0.008113590263691683\n",
      "  1%|▌                                         | 12/986 [00:17<21:42,  1.34s/it]ExpRate: 0.009127789046653144\n",
      "  1%|▌                                         | 13/986 [00:19<22:40,  1.40s/it]^C\n",
      "[WARNING] DEVICE(89832,ffff8be37a40,python):2023-08-29-13:30:37.614.418 [mindspore/ccsrc/runtime/pynative/op_executor.cc:141] operator()] Process 89832 receive KeyboardInterrupt signal.\n"
     ]
    }
   ],
   "source": [
    "!python inference.py --dataset CROHME"
   ]
  },
  {
   "cell_type": "code",
   "execution_count": 4,
   "id": "8a5c00eb-1e8d-4a54-8c68-aa3212bd02c2",
   "metadata": {},
   "outputs": [
    {
     "name": "stdout",
     "output_type": "stream",
     "text": [
      "共 111 类符号。\n",
      "训练数据路径 images: datasets/CROHME/train_images.pkl labels: datasets/CROHME/train_labels.txt\n",
      "验证数据路径 images: datasets/CROHME/14_test_images.pkl labels: datasets/CROHME/14_test_labels.txt\n",
      "train dataset: 8835 train steps: 8835 eval dataset: 986 eval steps: 986 \n",
      "No optimizer in the pretrained model\n",
      "[]\n",
      "CAN_2023-08-29-13-30_decoder-AttDecoder\n",
      "1 word_loss:0.0025 counting_loss:0.0222 WRate:1.0000 ERate:1.0000:   0%| | 8/883\n",
      "1 word_loss:1.9095 counting_loss:0.0550 WRate:0.9293 ERate:0.6250:   0%| | 0/123^C\n",
      "Exception ignored in: <Finalize object, dead>\n",
      "Traceback (most recent call last):\n",
      "  File \"/home/ma-user/anaconda3/envs/MindSpore/lib/python3.7/multiprocessing/util.py\", line 224, in __call__\n",
      "[WARNING] DEVICE(91072,ffff8d62da40,python):2023-08-29-13:39:52.711.702 [mindspore/ccsrc/runtime/pynative/op_executor.cc:141] operator()] Process 91072 receive KeyboardInterrupt signal.\n",
      "Traceback (most recent call last):\n",
      "  File \"/home/ma-user/anaconda3/envs/MindSpore/lib/python3.7/site-packages/mindspore/_extends/remote/kernel_build_server_ascend.py\", line 75, in <module>\n",
      "    res = self._callback(*self._args, **self._kwargs)\n",
      "  File \"/home/ma-user/anaconda3/envs/MindSpore/lib/python3.7/multiprocessing/managers.py\", line 871, in _decref\n",
      "    messager.run()\n",
      "  File \"/home/ma-user/anaconda3/envs/MindSpore/lib/python3.7/site-packages/mindspore/_extends/remote/kernel_build_server.py\", line 106, in run\n",
      "    conn = _Client(token.address, authkey=authkey)\n",
      "  File \"/home/ma-user/anaconda3/envs/MindSpore/lib/python3.7/multiprocessing/connection.py\", line 498, in Client\n",
      "    answer_challenge(c, authkey)\n",
      "  File \"/home/ma-user/anaconda3/envs/MindSpore/lib/python3.7/multiprocessing/connection.py\", line 747, in answer_challenge\n",
      "    response = connection.recv_bytes(256)        # reject large message\n",
      "  File \"/home/ma-user/anaconda3/envs/MindSpore/lib/python3.7/multiprocessing/connection.py\", line 216, in recv_bytes\n",
      "    buf = self._recv_bytes(maxlength)\n",
      "  File \"/home/ma-user/anaconda3/envs/MindSpore/lib/python3.7/multiprocessing/connection.py\", line 407, in _recv_bytes\n",
      "    buf = self._recv(4)\n",
      "  File \"/home/ma-user/anaconda3/envs/MindSpore/lib/python3.7/multiprocessing/connection.py\", line 379, in _recv\n",
      "    chunk = read(handle, remaining)\n",
      "KeyboardInterrupt: \n",
      "    self.loop()\n",
      "  File \"/home/ma-user/anaconda3/envs/MindSpore/lib/python3.7/site-packages/mindspore/_extends/remote/kernel_build_server.py\", line 103, in loop\n",
      "    self.handle()\n",
      "  File \"/home/ma-user/anaconda3/envs/MindSpore/lib/python3.7/site-packages/mindspore/_extends/remote/kernel_build_server_ascend.py\", line 56, in handle\n",
      "    res = self.tbe_builder.job_handler(arg)\n",
      "  File \"/home/ma-user/anaconda3/envs/MindSpore/lib/python3.7/site-packages/mindspore/_extends/parallel_compile/tbe_compiler/tbe_job_manager.py\", line 126, in job_handler\n",
      "    res = func(job)\n",
      "  File \"/home/ma-user/anaconda3/envs/MindSpore/lib/python3.7/site-packages/mindspore/_extends/parallel_compile/tbe_compiler/tbe_job_manager.py\", line 290, in query_handler\n",
      "    self.update_raw_finished_jobs(query_job)\n",
      "  File \"/home/ma-user/anaconda3/envs/MindSpore/lib/python3.7/site-packages/mindspore/_extends/parallel_compile/tbe_compiler/tbe_job_manager.py\", line 320, in update_raw_finished_jobs\n",
      "    new_finished_jobs = get_finish_tasks(query_job.source_id)\n",
      "  File \"/home/ma-user/anaconda3/envs/MindSpore/lib/python3.7/site-packages/mindspore/_extends/parallel_compile/tbe_compiler/tbe_adapter.py\", line 657, in get_finish_tasks\n",
      "    return get_finished_compilation_task(source_id)\n",
      "  File \"/usr/local/Ascend/ascend-toolkit/latest/python/site-packages/te_fusion/parallel_compilation.py\", line 1100, in get_finished_compilation_task\n",
      "    res = compiler.get_finished_task(graph_id)\n",
      "  File \"/usr/local/Ascend/ascend-toolkit/latest/python/site-packages/te_fusion/parallel_compilation.py\", line 752, in get_finished_task\n",
      "    task_res = self.task_dispatcher.get_result(False)\n",
      "  File \"/usr/local/Ascend/ascend-toolkit/latest/python/site-packages/te_fusion/parallel_compilation.py\", line 1165, in get_result\n",
      "    task = fin_queue.get(block)\n",
      "  File \"/home/ma-user/anaconda3/envs/MindSpore/lib/python3.7/multiprocessing/queues.py\", line 106, in get\n",
      "    elif not self._poll():\n",
      "  File \"/home/ma-user/anaconda3/envs/MindSpore/lib/python3.7/multiprocessing/connection.py\", line 257, in poll\n",
      "    return self._poll(timeout)\n",
      "  File \"/home/ma-user/anaconda3/envs/MindSpore/lib/python3.7/multiprocessing/connection.py\", line 414, in _poll\n",
      "    r = wait([self], timeout)\n",
      "  File \"/home/ma-user/anaconda3/envs/MindSpore/lib/python3.7/multiprocessing/connection.py\", line 915, in wait\n",
      "    selector.register(obj, selectors.EVENT_READ)\n",
      "  File \"/home/ma-user/anaconda3/envs/MindSpore/lib/python3.7/selectors.py\", line 352, in register\n",
      "    key = super().register(fileobj, events, data)\n",
      "  File \"/home/ma-user/anaconda3/envs/MindSpore/lib/python3.7/selectors.py\", line 238, in register\n",
      "    key = SelectorKey(fileobj, self._fileobj_lookup(fileobj), events, data)\n",
      "  File \"/home/ma-user/anaconda3/envs/MindSpore/lib/python3.7/selectors.py\", line 225, in _fileobj_lookup\n",
      "    return _fileobj_to_fd(fileobj)\n",
      "  File \"/home/ma-user/anaconda3/envs/MindSpore/lib/python3.7/selectors.py\", line 33, in _fileobj_to_fd\n",
      "    if isinstance(fileobj, int):\n",
      "KeyboardInterrupt\n",
      "Exception in thread Thread-1:\n",
      "Traceback (most recent call last):\n",
      "  File \"/home/ma-user/anaconda3/envs/MindSpore/lib/python3.7/threading.py\", line 926, in _bootstrap_inner\n",
      "    self.run()\n",
      "  File \"/usr/local/Ascend/ascend-toolkit/latest/python/site-packages/tbe/common/repository_manager/utils/multiprocess_util.py\", line 60, in run\n",
      "    key, func, args, kwargs = self.task_q.get(timeout=TIMEOUT)\n",
      "  File \"<string>\", line 2, in get\n",
      "  File \"/home/ma-user/anaconda3/envs/MindSpore/lib/python3.7/multiprocessing/managers.py\", line 819, in _callmethod\n",
      "    kind, result = conn.recv()\n",
      "  File \"/home/ma-user/anaconda3/envs/MindSpore/lib/python3.7/multiprocessing/connection.py\", line 250, in recv\n",
      "    buf = self._recv_bytes()\n",
      "  File \"/home/ma-user/anaconda3/envs/MindSpore/lib/python3.7/multiprocessing/connection.py\", line 407, in _recv_bytes\n",
      "    buf = self._recv(4)\n",
      "  File \"/home/ma-user/anaconda3/envs/MindSpore/lib/python3.7/multiprocessing/connection.py\", line 383, in _recv\n",
      "    raise EOFError\n",
      "EOFError\n",
      "\n",
      "Traceback (most recent call last):\n",
      "  File \"/home/ma-user/anaconda3/envs/MindSpore/lib/python3.7/multiprocessing/util.py\", line 300, in _run_finalizers\n",
      "    finalizer()\n",
      "  File \"/home/ma-user/anaconda3/envs/MindSpore/lib/python3.7/multiprocessing/util.py\", line 224, in __call__\n",
      "    res = self._callback(*self._args, **self._kwargs)\n",
      "  File \"/usr/local/Ascend/ascend-toolkit/latest/python/site-packages/tbe/common/repository_manager/route.py\", line 49, in wrapper\n",
      "    return func(cls, *args, **kwargs)\n",
      "  File \"/usr/local/Ascend/ascend-toolkit/latest/python/site-packages/tbe/common/repository_manager/route.py\", line 202, in finalize\n",
      "    cls.cann_kb_mgr.finalize()\n",
      "  File \"/usr/local/Ascend/ascend-toolkit/latest/python/site-packages/tbe/common/repository_manager/cann_kb_manager/knowledge_bank_manager.py\", line 39, in finalize\n",
      "    self.__dynamic_mgr.close()\n",
      "  File \"/usr/local/Ascend/ascend-toolkit/latest/python/site-packages/tbe/common/repository_manager/cann_kb_manager/base_manager.py\", line 249, in close\n",
      "    for name in copy.deepcopy(self.write_kb.keys()):\n",
      "  File \"<string>\", line 2, in keys\n",
      "  File \"/home/ma-user/anaconda3/envs/MindSpore/lib/python3.7/multiprocessing/managers.py\", line 819, in _callmethod\n",
      "    kind, result = conn.recv()\n",
      "  File \"/home/ma-user/anaconda3/envs/MindSpore/lib/python3.7/multiprocessing/connection.py\", line 250, in recv\n",
      "    buf = self._recv_bytes()\n",
      "  File \"/home/ma-user/anaconda3/envs/MindSpore/lib/python3.7/multiprocessing/connection.py\", line 407, in _recv_bytes\n",
      "    buf = self._recv(4)\n",
      "  File \"/home/ma-user/anaconda3/envs/MindSpore/lib/python3.7/multiprocessing/connection.py\", line 379, in _recv\n",
      "    chunk = read(handle, remaining)\n",
      "ConnectionResetError: [Errno 104] Connection reset by peer\n"
     ]
    }
   ],
   "source": [
    "!python train.py --dataset CROHME"
   ]
  },
  {
   "cell_type": "code",
   "execution_count": 33,
   "id": "f965f2c3-fa74-4f5a-a5f0-823fb7cb67d5",
   "metadata": {},
   "outputs": [],
   "source": [
    "!zip -q -r CAN_finish0.zip *"
   ]
  },
  {
   "cell_type": "code",
   "execution_count": 5,
   "id": "4a5747c6-461c-4a33-b083-1ef22137ee6b",
   "metadata": {},
   "outputs": [],
   "source": [
    "!pip freeze > requirements.txt"
   ]
  },
  {
   "cell_type": "code",
   "execution_count": 7,
   "id": "0c97aa93-4a29-4179-8c57-290a71da1b97",
   "metadata": {},
   "outputs": [],
   "source": [
    "!rm -rf rank_0"
   ]
  },
  {
   "cell_type": "code",
   "execution_count": null,
   "id": "9625a99a-9f3a-463b-b2a2-8a63d5e39eca",
   "metadata": {},
   "outputs": [],
   "source": []
  }
 ],
 "metadata": {
  "kernelspec": {
   "display_name": "MindSpore",
   "language": "python",
   "name": "mindspore"
  },
  "language_info": {
   "codemirror_mode": {
    "name": "ipython",
    "version": 3
   },
   "file_extension": ".py",
   "mimetype": "text/x-python",
   "name": "python",
   "nbconvert_exporter": "python",
   "pygments_lexer": "ipython3",
   "version": "3.7.10"
  }
 },
 "nbformat": 4,
 "nbformat_minor": 5
}
