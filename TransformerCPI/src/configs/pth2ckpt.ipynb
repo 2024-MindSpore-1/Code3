{
 "cells": [
  {
   "cell_type": "code",
   "execution_count": null,
   "id": "dd6e47a3",
   "metadata": {},
   "outputs": [],
   "source": [
    "import torch\n",
    "import mindspore\n",
    "from mindspore import Tensor, dtype\n",
    "from mindspore import save_checkpoint\n",
    "from mindspore import Parameter\n",
    "model = torch.load(\"Conformer_tiny_patch16.pth\", map_location='cpu')\n"
   ]
  },
  {
   "cell_type": "code",
   "execution_count": null,
   "id": "d3f5729f",
   "metadata": {},
   "outputs": [],
   "source": [
    "model_keys = []\n",
    "for key in model.keys():\n",
    "    if \"num_batches_tracked\" not in key:\n",
    "        model_keys.append(key)\n",
    "        print(key)"
   ]
  },
  {
   "cell_type": "code",
   "execution_count": null,
   "id": "0709412a",
   "metadata": {},
   "outputs": [],
   "source": [
    "weights = []\n",
    "prefix = \"model.\"\n",
    "for key in model_keys:\n",
    "    name2weight = {}\n",
    "    if \"bn\" in key or \"norm\" in key or \"ln\" in key:\n",
    "        if \"weight\" in key:\n",
    "            name2weight[\"name\"] = prefix + key.replace(\".weight\", \".gamma\")\n",
    "        elif \"bias\" in key:\n",
    "            name2weight[\"name\"] = prefix + key.replace(\".bias\", \".beta\")\n",
    "        elif \"mean\" in key:\n",
    "            name2weight[\"name\"] = prefix + key.replace(\"running_mean\", \"moving_mean\")\n",
    "        elif \"var\" in key:\n",
    "            name2weight[\"name\"] = prefix + key.replace(\"running_var\", \"moving_variance\")\n",
    "        \n",
    "        name2weight[\"data\"] = Parameter(Tensor(model[key].numpy(), dtype.float32),requires_grad=True) \n",
    "        weights.append(name2weight)\n",
    "    elif \"qkv\" in key:\n",
    "        key_q = prefix +  key.replace(\"qkv\", \"q\")\n",
    "        key_k = prefix +  key.replace(\"qkv\", \"k\")\n",
    "        key_v = prefix + key.replace(\"qkv\", \"v\")\n",
    "        shape = model[key].shape[0]//3\n",
    "        weight = Parameter(Tensor(model[key].numpy(), dtype.float32),requires_grad=True) \n",
    "        weight_q = weight[:shape]\n",
    "        weight_k = weight[shape:shape*2]\n",
    "        weight_v = weight[shape*2:]\n",
    "        weights.append({\"name\":key_q, \"data\": weight_q})\n",
    "        weights.append({\"name\":key_k, \"data\": weight_k})\n",
    "        weights.append({\"name\":key_v, \"data\": weight_v})\n",
    "    else:\n",
    "        weight = Parameter(Tensor(model[key].numpy(), dtype.float32),requires_grad=True)\n",
    "        key = prefix + key\n",
    "        weights.append({\"name\": key, \"data\": weight})\n",
    "        print(key, weight.shape)"
   ]
  },
  {
   "cell_type": "code",
   "execution_count": null,
   "id": "a079bc1f",
   "metadata": {},
   "outputs": [],
   "source": [
    "weights_out = []\n",
    "for weight in weights:\n",
    "    weight_out = {}\n",
    "    name = weight[\"name\"]\n",
    "    if \"conv_trans_\" in weight[\"name\"]:\n",
    "        name = weight[\"name\"].replace(\"conv_trans_\", \"conv_trans.\").split(\".\")\n",
    "        name[2] = str(int(name[2])-2)\n",
    "        name = \".\".join(name)\n",
    "    weight_out[\"name\"] = name\n",
    "    weight_out[\"data\"] = weight[\"data\"]\n",
    "    weights_out.append(weight_out)\n",
    "    print(weight_out[\"name\"])\n"
   ]
  },
  {
   "cell_type": "code",
   "execution_count": null,
   "id": "58e81d8a",
   "metadata": {},
   "outputs": [],
   "source": [
    "save_checkpoint(weights_out, \"Conformer_tiny_patch16.ckpt\")"
   ]
  },
  {
   "cell_type": "code",
   "execution_count": null,
   "id": "f7375f6d",
   "metadata": {},
   "outputs": [],
   "source": [
    "len(weights_out)"
   ]
  },
  {
   "cell_type": "code",
   "execution_count": null,
   "id": "9c673f37",
   "metadata": {},
   "outputs": [],
   "source": []
  }
 ],
 "metadata": {
  "kernelspec": {
   "display_name": "Python 3.9.12 ('base')",
   "language": "python",
   "name": "python3"
  },
  "language_info": {
   "codemirror_mode": {
    "name": "ipython",
    "version": 3
   },
   "file_extension": ".py",
   "mimetype": "text/x-python",
   "name": "python",
   "nbconvert_exporter": "python",
   "pygments_lexer": "ipython3",
   "version": "3.9.12"
  },
  "vscode": {
   "interpreter": {
    "hash": "22834332dee9b5d2b93c4292ec84ca2350d22e3c205bb95a70e35f0020ab12e8"
   }
  }
 },
 "nbformat": 4,
 "nbformat_minor": 5
}
