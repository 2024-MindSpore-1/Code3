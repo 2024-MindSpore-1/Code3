{
 "cells": [
  {
   "cell_type": "code",
   "execution_count": null,
   "id": "a5d824e0-5052-4535-94ea-98c70ca377eb",
   "metadata": {},
   "outputs": [],
   "source": [
    "import torch\n",
    "from transformers import GPT2LMHeadModel, GPT2Tokenizer\n",
    "\n",
    "# 加载预训练的GPT-2模型和对应的tokenizer\n",
    "model_name = 'gpt2-medium'  # 指定所使用的GPT-2模型规模\n",
    "model = GPT2LMHeadModel.from_pretrained(model_name)\n",
    "tokenizer = GPT2Tokenizer.from_pretrained(model_name)"
   ]
  },
  {
   "cell_type": "code",
   "execution_count": 3,
   "id": "3b025739-4c24-4ebe-90c3-fffa16796e37",
   "metadata": {},
   "outputs": [
    {
     "name": "stdout",
     "output_type": "stream",
     "text": [
      "/data1/ckw/mindspore提取攻击/04成员推断和重构攻击\n"
     ]
    }
   ],
   "source": [
    "!pwd"
   ]
  },
  {
   "cell_type": "code",
   "execution_count": 9,
   "id": "8931473d-2a98-4a5f-a1b9-74eb96bf3fdf",
   "metadata": {},
   "outputs": [
    {
     "data": {
      "application/vnd.jupyter.widget-view+json": {
       "model_id": "a59ce36b985e4ef38fe15e5d1909778f",
       "version_major": 2,
       "version_minor": 0
      },
      "text/plain": [
       "Loading checkpoint shards:   0%|          | 0/8 [00:00<?, ?it/s]"
      ]
     },
     "metadata": {},
     "output_type": "display_data"
    },
    {
     "name": "stderr",
     "output_type": "stream",
     "text": [
      "[WARNING] ME(1926165:140429744420672,MainProcess):2023-09-19-23:33:50.277.66 [mindspore/lib/python3.9/site-packages/mindnlp/abc/models/pretrained_model.py:457] The following parameters in checkpoint files are not loaded:\n",
      "['transformer.layers.0.attention.rotary_emb.inv_freq', 'transformer.layers.1.attention.rotary_emb.inv_freq', 'transformer.layers.2.attention.rotary_emb.inv_freq', 'transformer.layers.3.attention.rotary_emb.inv_freq', 'transformer.layers.4.attention.rotary_emb.inv_freq', 'transformer.layers.5.attention.rotary_emb.inv_freq', 'transformer.layers.6.attention.rotary_emb.inv_freq', 'transformer.layers.10.attention.rotary_emb.inv_freq', 'transformer.layers.11.attention.rotary_emb.inv_freq', 'transformer.layers.7.attention.rotary_emb.inv_freq', 'transformer.layers.8.attention.rotary_emb.inv_freq', 'transformer.layers.9.attention.rotary_emb.inv_freq', 'transformer.layers.12.attention.rotary_emb.inv_freq', 'transformer.layers.13.attention.rotary_emb.inv_freq', 'transformer.layers.14.attention.rotary_emb.inv_freq', 'transformer.layers.15.attention.rotary_emb.inv_freq', 'transformer.layers.16.attention.rotary_emb.inv_freq', 'transformer.layers.17.attention.rotary_emb.inv_freq', 'transformer.layers.18.attention.rotary_emb.inv_freq', 'transformer.layers.19.attention.rotary_emb.inv_freq', 'transformer.layers.20.attention.rotary_emb.inv_freq', 'transformer.layers.21.attention.rotary_emb.inv_freq', 'transformer.layers.22.attention.rotary_emb.inv_freq', 'transformer.layers.23.attention.rotary_emb.inv_freq', 'transformer.layers.24.attention.rotary_emb.inv_freq', 'transformer.layers.25.attention.rotary_emb.inv_freq', 'transformer.layers.26.attention.rotary_emb.inv_freq', 'transformer.layers.27.attention.rotary_emb.inv_freq']\n"
     ]
    },
    {
     "data": {
      "application/vnd.jupyter.widget-view+json": {
       "model_id": "73d121aa0a464a29a9f05a4dfbebb477",
       "version_major": 2,
       "version_minor": 0
      },
      "text/plain": [
       "  0%|          | 0.00/2.58M [00:00<?, ?B/s]"
      ]
     },
     "metadata": {},
     "output_type": "display_data"
    }
   ],
   "source": [
    "import random\n",
    "import unittest\n",
    "import numpy as np\n",
    "\n",
    "import mindspore\n",
    "from mindspore import Tensor\n",
    "\n",
    "from mindnlp.models.glm.chatglm import ChatGLMForConditionalGeneration\n",
    "from mindnlp.transforms.tokenizers import ChatGLMTokenizer\n",
    "\n",
    "\n",
    "\n",
    "\n",
    "def set_random_seed(seed):\n",
    "    \"\"\"set random seed\"\"\"\n",
    "    random.seed(seed)\n",
    "\n",
    "    # mindspore RNGs\n",
    "    mindspore.set_seed(seed)\n",
    "\n",
    "    # numpy RNG\n",
    "    np.random.seed(seed)\n",
    "\n",
    "\n",
    "def ids_tensor(shape, vocab_size):\n",
    "    \"\"\"Creates a random int32 tensor of the shape within the vocab size\"\"\"\n",
    "    total_dims = 1\n",
    "    for dim in shape:\n",
    "        total_dims *= dim\n",
    "\n",
    "    values = []\n",
    "    for _ in range(total_dims):\n",
    "        values.append(random.randint(0, vocab_size - 1))\n",
    "\n",
    "    return mindspore.Tensor(values, dtype=mindspore.int64).view(shape)\n",
    "\n",
    "\n",
    "def get_model_and_tokenizer():\n",
    "    \"\"\"get model and tokenizer\"\"\"\n",
    "    model = ChatGLMForConditionalGeneration.from_pretrained(r\"/data1/ckw/mindspore提取攻击/06chatglm挂api/.mindnlp/models/chatglm-6b/\")\n",
    "\n",
    "    tokenizer = ChatGLMTokenizer.from_pretrained(r\"/data1/ckw/mindspore提取攻击/06chatglm挂api/.mindnlp/models/chatglm-6b/\")\n",
    "    return model, tokenizer\n",
    "\n",
    "\n",
    "\n",
    "\n",
    "model = ChatGLMForConditionalGeneration.from_pretrained(r\"chatglm-6b\")\n",
    "\n",
    "tokenizer = ChatGLMTokenizer.from_pretrained(r\"chatglm-6b\")"
   ]
  },
  {
   "cell_type": "code",
   "execution_count": 6,
   "id": "da4a2b37-d4d8-4502-b5f8-fbf23fc66b39",
   "metadata": {},
   "outputs": [
    {
     "name": "stdout",
     "output_type": "stream",
     "text": [
      "config.json                    mindspore-00005-of-00008.ckpt\n",
      "ice_text.model                 mindspore-00006-of-00008.ckpt\n",
      "mindspore-00001-of-00008.ckpt  mindspore-00007-of-00008.ckpt\n",
      "mindspore-00002-of-00008.ckpt  mindspore-00008-of-00008.ckpt\n",
      "mindspore-00003-of-00008.ckpt  mindspore.ckpt.index.json\n",
      "mindspore-00004-of-00008.ckpt\n"
     ]
    }
   ],
   "source": [
    "ls /data1/ckw/mindspore提取攻击/06chatglm挂api/.mindnlp/models/chatglm-6b"
   ]
  },
  {
   "cell_type": "code",
   "execution_count": 16,
   "id": "c2254202-61c4-4f3b-b8ce-5940ae4495e2",
   "metadata": {},
   "outputs": [],
   "source": [
    "import mindspore as ms\n",
    "from mindspore import ops\n",
    "def calculatePerplexity(sentence, model, tokenizer):\n",
    "    \"\"\"\n",
    "    exp(loss)\n",
    "    \"\"\"\n",
    "    # 将输入的句子进行编码，返回的input_ids类型为tensor\n",
    "    input_ids = ms.tensor(tokenizer.encode(sentence)).unsqueeze(0)\n",
    "    # 模型输入input_ids和标签input_ids，输出模型预测结果logits和损失loss，outputs为一个tuple\n",
    "    outputs = model(input_ids, labels=input_ids)\n",
    "    # 取出tuple中的第一项（即损失loss）和第二项（即预测结果logits）\n",
    "    loss, logits = outputs[:2]\n",
    "    # 返回exp(loss)\n",
    "    return ops.exp(loss)"
   ]
  },
  {
   "cell_type": "code",
   "execution_count": 17,
   "id": "8490bae2-dd64-45a3-9b14-dec1f130be6b",
   "metadata": {},
   "outputs": [],
   "source": [
    "# 要计算困惑度的原始字符串和子字符串\n",
    "sentence = \"你好，欢迎来到美丽的可爱岛！\""
   ]
  },
  {
   "cell_type": "code",
   "execution_count": 18,
   "id": "ed81ea09-f935-4416-809f-b27e353d8a24",
   "metadata": {},
   "outputs": [
    {
     "ename": "AttributeError",
     "evalue": "'NoneType' object has no attribute 'dtype'",
     "output_type": "error",
     "traceback": [
      "\u001b[0;31m---------------------------------------------------------------------------\u001b[0m",
      "\u001b[0;31mAttributeError\u001b[0m                            Traceback (most recent call last)",
      "Cell \u001b[0;32mIn[18], line 1\u001b[0m\n\u001b[0;32m----> 1\u001b[0m \u001b[43mcalculatePerplexity\u001b[49m\u001b[43m(\u001b[49m\u001b[43msentence\u001b[49m\u001b[43m,\u001b[49m\u001b[43m \u001b[49m\u001b[43mmodel\u001b[49m\u001b[43m,\u001b[49m\u001b[43m \u001b[49m\u001b[43mtokenizer\u001b[49m\u001b[43m)\u001b[49m\n",
      "Cell \u001b[0;32mIn[16], line 10\u001b[0m, in \u001b[0;36mcalculatePerplexity\u001b[0;34m(sentence, model, tokenizer)\u001b[0m\n\u001b[1;32m      8\u001b[0m input_ids \u001b[38;5;241m=\u001b[39m ms\u001b[38;5;241m.\u001b[39mtensor(tokenizer\u001b[38;5;241m.\u001b[39mencode(sentence))\u001b[38;5;241m.\u001b[39munsqueeze(\u001b[38;5;241m0\u001b[39m)\n\u001b[1;32m      9\u001b[0m \u001b[38;5;66;03m# 模型输入input_ids和标签input_ids，输出模型预测结果logits和损失loss，outputs为一个tuple\u001b[39;00m\n\u001b[0;32m---> 10\u001b[0m outputs \u001b[38;5;241m=\u001b[39m \u001b[43mmodel\u001b[49m\u001b[43m(\u001b[49m\u001b[43minput_ids\u001b[49m\u001b[43m,\u001b[49m\u001b[43m \u001b[49m\u001b[43mlabels\u001b[49m\u001b[38;5;241;43m=\u001b[39;49m\u001b[43minput_ids\u001b[49m\u001b[43m)\u001b[49m\n\u001b[1;32m     11\u001b[0m \u001b[38;5;66;03m# 取出tuple中的第一项（即损失loss）和第二项（即预测结果logits）\u001b[39;00m\n\u001b[1;32m     12\u001b[0m loss, logits \u001b[38;5;241m=\u001b[39m outputs[:\u001b[38;5;241m2\u001b[39m]\n",
      "File \u001b[0;32m~/anaconda3/envs/kewei-mindspore/lib/python3.9/site-packages/mindspore/nn/cell.py:662\u001b[0m, in \u001b[0;36mCell.__call__\u001b[0;34m(self, *args, **kwargs)\u001b[0m\n\u001b[1;32m    660\u001b[0m \u001b[38;5;28;01mexcept\u001b[39;00m \u001b[38;5;167;01mException\u001b[39;00m \u001b[38;5;28;01mas\u001b[39;00m err:\n\u001b[1;32m    661\u001b[0m     _pynative_executor\u001b[38;5;241m.\u001b[39mclear_res()\n\u001b[0;32m--> 662\u001b[0m     \u001b[38;5;28;01mraise\u001b[39;00m err\n\u001b[1;32m    664\u001b[0m \u001b[38;5;28;01mif\u001b[39;00m \u001b[38;5;28misinstance\u001b[39m(output, Parameter):\n\u001b[1;32m    665\u001b[0m     output \u001b[38;5;241m=\u001b[39m output\u001b[38;5;241m.\u001b[39mdata\n",
      "File \u001b[0;32m~/anaconda3/envs/kewei-mindspore/lib/python3.9/site-packages/mindspore/nn/cell.py:658\u001b[0m, in \u001b[0;36mCell.__call__\u001b[0;34m(self, *args, **kwargs)\u001b[0m\n\u001b[1;32m    656\u001b[0m \u001b[38;5;28;01mtry\u001b[39;00m:\n\u001b[1;32m    657\u001b[0m     _pynative_executor\u001b[38;5;241m.\u001b[39mnew_graph(\u001b[38;5;28mself\u001b[39m, \u001b[38;5;241m*\u001b[39margs, \u001b[38;5;241m*\u001b[39m\u001b[38;5;241m*\u001b[39mkwargs)\n\u001b[0;32m--> 658\u001b[0m     output \u001b[38;5;241m=\u001b[39m \u001b[38;5;28;43mself\u001b[39;49m\u001b[38;5;241;43m.\u001b[39;49m\u001b[43m_run_construct\u001b[49m\u001b[43m(\u001b[49m\u001b[43margs\u001b[49m\u001b[43m,\u001b[49m\u001b[43m \u001b[49m\u001b[43mkwargs\u001b[49m\u001b[43m)\u001b[49m\n\u001b[1;32m    659\u001b[0m     _pynative_executor\u001b[38;5;241m.\u001b[39mend_graph(\u001b[38;5;28mself\u001b[39m, output, \u001b[38;5;241m*\u001b[39margs, \u001b[38;5;241m*\u001b[39m\u001b[38;5;241m*\u001b[39mkwargs)\n\u001b[1;32m    660\u001b[0m \u001b[38;5;28;01mexcept\u001b[39;00m \u001b[38;5;167;01mException\u001b[39;00m \u001b[38;5;28;01mas\u001b[39;00m err:\n",
      "File \u001b[0;32m~/anaconda3/envs/kewei-mindspore/lib/python3.9/site-packages/mindspore/nn/cell.py:442\u001b[0m, in \u001b[0;36mCell._run_construct\u001b[0;34m(self, cast_inputs, kwargs)\u001b[0m\n\u001b[1;32m    440\u001b[0m     output \u001b[38;5;241m=\u001b[39m \u001b[38;5;28mself\u001b[39m\u001b[38;5;241m.\u001b[39m_shard_fn(\u001b[38;5;241m*\u001b[39mcast_inputs, \u001b[38;5;241m*\u001b[39m\u001b[38;5;241m*\u001b[39mkwargs)\n\u001b[1;32m    441\u001b[0m \u001b[38;5;28;01melse\u001b[39;00m:\n\u001b[0;32m--> 442\u001b[0m     output \u001b[38;5;241m=\u001b[39m \u001b[38;5;28;43mself\u001b[39;49m\u001b[38;5;241;43m.\u001b[39;49m\u001b[43mconstruct\u001b[49m\u001b[43m(\u001b[49m\u001b[38;5;241;43m*\u001b[39;49m\u001b[43mcast_inputs\u001b[49m\u001b[43m,\u001b[49m\u001b[43m \u001b[49m\u001b[38;5;241;43m*\u001b[39;49m\u001b[38;5;241;43m*\u001b[39;49m\u001b[43mkwargs\u001b[49m\u001b[43m)\u001b[49m\n\u001b[1;32m    443\u001b[0m \u001b[38;5;28;01mif\u001b[39;00m \u001b[38;5;28mself\u001b[39m\u001b[38;5;241m.\u001b[39m_enable_forward_hook:\n\u001b[1;32m    444\u001b[0m     output \u001b[38;5;241m=\u001b[39m \u001b[38;5;28mself\u001b[39m\u001b[38;5;241m.\u001b[39m_run_forward_hook(cast_inputs, output)\n",
      "File \u001b[0;32m~/anaconda3/envs/kewei-mindspore/lib/python3.9/site-packages/mindspore/common/api.py:807\u001b[0m, in \u001b[0;36mjit.<locals>.wrap_mindspore.<locals>.staging_specialize\u001b[0;34m(*args, **kwargs)\u001b[0m\n\u001b[1;32m    805\u001b[0m \u001b[38;5;28;01mif\u001b[39;00m _is_pynative_parallel() \u001b[38;5;129;01mand\u001b[39;00m func\u001b[38;5;241m.\u001b[39m\u001b[38;5;18m__name__\u001b[39m \u001b[38;5;241m==\u001b[39m _PYNATIVE_PARALLEL_FUNC_NAME:\n\u001b[1;32m    806\u001b[0m     process_obj \u001b[38;5;241m=\u001b[39m hash_args\n\u001b[0;32m--> 807\u001b[0m out \u001b[38;5;241m=\u001b[39m \u001b[43m_MindsporeFunctionExecutor\u001b[49m\u001b[43m(\u001b[49m\u001b[43mfunc\u001b[49m\u001b[43m,\u001b[49m\u001b[43m \u001b[49m\u001b[43mhash_obj\u001b[49m\u001b[43m,\u001b[49m\u001b[43m \u001b[49m\u001b[43minput_signature\u001b[49m\u001b[43m,\u001b[49m\u001b[43m \u001b[49m\u001b[43mprocess_obj\u001b[49m\u001b[43m,\u001b[49m\u001b[43m \u001b[49m\u001b[43mjit_config\u001b[49m\u001b[43m)\u001b[49m\u001b[43m(\u001b[49m\u001b[38;5;241;43m*\u001b[39;49m\u001b[43margs\u001b[49m\u001b[43m,\u001b[49m\u001b[43m \u001b[49m\u001b[38;5;241;43m*\u001b[39;49m\u001b[38;5;241;43m*\u001b[39;49m\u001b[43mkwargs\u001b[49m\u001b[43m)\u001b[49m\n\u001b[1;32m    808\u001b[0m \u001b[38;5;28;01mreturn\u001b[39;00m out\n",
      "File \u001b[0;32m~/anaconda3/envs/kewei-mindspore/lib/python3.9/site-packages/mindspore/common/api.py:106\u001b[0m, in \u001b[0;36m_wrap_func.<locals>.wrapper\u001b[0;34m(*arg, **kwargs)\u001b[0m\n\u001b[1;32m    104\u001b[0m \u001b[38;5;129m@wraps\u001b[39m(fn)\n\u001b[1;32m    105\u001b[0m \u001b[38;5;28;01mdef\u001b[39;00m \u001b[38;5;21mwrapper\u001b[39m(\u001b[38;5;241m*\u001b[39marg, \u001b[38;5;241m*\u001b[39m\u001b[38;5;241m*\u001b[39mkwargs):\n\u001b[0;32m--> 106\u001b[0m     results \u001b[38;5;241m=\u001b[39m \u001b[43mfn\u001b[49m\u001b[43m(\u001b[49m\u001b[38;5;241;43m*\u001b[39;49m\u001b[43marg\u001b[49m\u001b[43m,\u001b[49m\u001b[43m \u001b[49m\u001b[38;5;241;43m*\u001b[39;49m\u001b[38;5;241;43m*\u001b[39;49m\u001b[43mkwargs\u001b[49m\u001b[43m)\u001b[49m\n\u001b[1;32m    107\u001b[0m     \u001b[38;5;28;01mreturn\u001b[39;00m _convert_python_data(results)\n",
      "File \u001b[0;32m~/anaconda3/envs/kewei-mindspore/lib/python3.9/site-packages/mindspore/common/api.py:526\u001b[0m, in \u001b[0;36m_MindsporeFunctionExecutor.__call__\u001b[0;34m(self, *args, **kwargs)\u001b[0m\n\u001b[1;32m    524\u001b[0m \u001b[38;5;28;01mexcept\u001b[39;00m \u001b[38;5;167;01mException\u001b[39;00m \u001b[38;5;28;01mas\u001b[39;00m err:\n\u001b[1;32m    525\u001b[0m     _pynative_executor\u001b[38;5;241m.\u001b[39mclear_res()\n\u001b[0;32m--> 526\u001b[0m     \u001b[38;5;28;01mraise\u001b[39;00m err\n\u001b[1;32m    528\u001b[0m \u001b[38;5;28;01mif\u001b[39;00m context\u001b[38;5;241m.\u001b[39mget_context(\u001b[38;5;124m\"\u001b[39m\u001b[38;5;124mprecompile_only\u001b[39m\u001b[38;5;124m\"\u001b[39m):\n\u001b[1;32m    529\u001b[0m     \u001b[38;5;28;01mreturn\u001b[39;00m \u001b[38;5;28;01mNone\u001b[39;00m\n",
      "File \u001b[0;32m~/anaconda3/envs/kewei-mindspore/lib/python3.9/site-packages/mindspore/common/api.py:520\u001b[0m, in \u001b[0;36m_MindsporeFunctionExecutor.__call__\u001b[0;34m(self, *args, **kwargs)\u001b[0m\n\u001b[1;32m    518\u001b[0m \u001b[38;5;28;01mif\u001b[39;00m context\u001b[38;5;241m.\u001b[39mget_context(\u001b[38;5;124m\"\u001b[39m\u001b[38;5;124mmode\u001b[39m\u001b[38;5;124m\"\u001b[39m) \u001b[38;5;241m==\u001b[39m context\u001b[38;5;241m.\u001b[39mPYNATIVE_MODE:\n\u001b[1;32m    519\u001b[0m     _pynative_executor\u001b[38;5;241m.\u001b[39mset_ms_function_compile_status(\u001b[38;5;28;01mTrue\u001b[39;00m, phase)\n\u001b[0;32m--> 520\u001b[0m     phase \u001b[38;5;241m=\u001b[39m \u001b[38;5;28;43mself\u001b[39;49m\u001b[38;5;241;43m.\u001b[39;49m\u001b[43mcompile\u001b[49m\u001b[43m(\u001b[49m\u001b[38;5;28;43mself\u001b[39;49m\u001b[38;5;241;43m.\u001b[39;49m\u001b[43mfn\u001b[49m\u001b[38;5;241;43m.\u001b[39;49m\u001b[38;5;18;43m__name__\u001b[39;49m\u001b[43m,\u001b[49m\u001b[43m \u001b[49m\u001b[38;5;241;43m*\u001b[39;49m\u001b[43margs_list\u001b[49m\u001b[43m,\u001b[49m\u001b[43m \u001b[49m\u001b[38;5;241;43m*\u001b[39;49m\u001b[38;5;241;43m*\u001b[39;49m\u001b[43mkwargs\u001b[49m\u001b[43m)\u001b[49m\n\u001b[1;32m    521\u001b[0m     _pynative_executor\u001b[38;5;241m.\u001b[39mset_ms_function_compile_status(\u001b[38;5;28;01mFalse\u001b[39;00m, phase)\n\u001b[1;32m    522\u001b[0m \u001b[38;5;28;01melse\u001b[39;00m:\n",
      "File \u001b[0;32m~/anaconda3/envs/kewei-mindspore/lib/python3.9/site-packages/mindspore/common/api.py:556\u001b[0m, in \u001b[0;36m_MindsporeFunctionExecutor.compile\u001b[0;34m(self, method_name, *args, **kwargs)\u001b[0m\n\u001b[1;32m    552\u001b[0m         logger\u001b[38;5;241m.\u001b[39mwarning(\u001b[38;5;124mf\u001b[39m\u001b[38;5;124m\"\u001b[39m\u001b[38;5;124mFor \u001b[39m\u001b[38;5;124m'\u001b[39m\u001b[38;5;124mCell\u001b[39m\u001b[38;5;124m'\u001b[39m\u001b[38;5;124m, it\u001b[39m\u001b[38;5;124m'\u001b[39m\u001b[38;5;124ms not support hook function when using \u001b[39m\u001b[38;5;124m'\u001b[39m\u001b[38;5;124mjit\u001b[39m\u001b[38;5;124m'\u001b[39m\u001b[38;5;124m decorator. \u001b[39m\u001b[38;5;124m\"\u001b[39m\n\u001b[1;32m    553\u001b[0m                        \u001b[38;5;124mf\u001b[39m\u001b[38;5;124m\"\u001b[39m\u001b[38;5;124mIf you want to use hook function, please use context.set_context to set \u001b[39m\u001b[38;5;124m\"\u001b[39m\n\u001b[1;32m    554\u001b[0m                        \u001b[38;5;124mf\u001b[39m\u001b[38;5;124m\"\u001b[39m\u001b[38;5;124mpynative mode and remove \u001b[39m\u001b[38;5;124m'\u001b[39m\u001b[38;5;124mjit\u001b[39m\u001b[38;5;124m'\u001b[39m\u001b[38;5;124m decorator.\u001b[39m\u001b[38;5;124m\"\u001b[39m)\n\u001b[1;32m    555\u001b[0m \u001b[38;5;66;03m# Chose dynamic shape tensors or actual input tensors as compile args.\u001b[39;00m\n\u001b[0;32m--> 556\u001b[0m compile_args \u001b[38;5;241m=\u001b[39m \u001b[38;5;28;43mself\u001b[39;49m\u001b[38;5;241;43m.\u001b[39;49m\u001b[43m_generate_compile_args\u001b[49m\u001b[43m(\u001b[49m\u001b[43margs\u001b[49m\u001b[43m)\u001b[49m\n\u001b[1;32m    557\u001b[0m \u001b[38;5;66;03m# Restore the mutable attr for every arg.\u001b[39;00m\n\u001b[1;32m    558\u001b[0m compile_args \u001b[38;5;241m=\u001b[39m _restore_mutable_attr(args, compile_args)\n",
      "File \u001b[0;32m~/anaconda3/envs/kewei-mindspore/lib/python3.9/site-packages/mindspore/common/api.py:652\u001b[0m, in \u001b[0;36m_MindsporeFunctionExecutor._generate_compile_args\u001b[0;34m(self, args_list)\u001b[0m\n\u001b[1;32m    650\u001b[0m \u001b[38;5;28;01mfor\u001b[39;00m i, elem \u001b[38;5;129;01min\u001b[39;00m \u001b[38;5;28menumerate\u001b[39m(\u001b[38;5;28mself\u001b[39m\u001b[38;5;241m.\u001b[39minput_signature):\n\u001b[1;32m    651\u001b[0m     \u001b[38;5;28;01mif\u001b[39;00m \u001b[38;5;28misinstance\u001b[39m(elem, PythonTensor) \u001b[38;5;129;01mand\u001b[39;00m is_shape_unknown(elem\u001b[38;5;241m.\u001b[39mshape):\n\u001b[0;32m--> 652\u001b[0m         \u001b[43mValidator\u001b[49m\u001b[38;5;241;43m.\u001b[39;49m\u001b[43mcheck_dynamic_shape\u001b[49m\u001b[43m(\u001b[49m\u001b[38;5;28;43mself\u001b[39;49m\u001b[38;5;241;43m.\u001b[39;49m\u001b[43minput_signature\u001b[49m\u001b[43m[\u001b[49m\u001b[43mi\u001b[49m\u001b[43m]\u001b[49m\u001b[43m,\u001b[49m\u001b[43m \u001b[49m\u001b[43margs_list\u001b[49m\u001b[43m[\u001b[49m\u001b[43mi\u001b[49m\u001b[43m]\u001b[49m\u001b[43m,\u001b[49m\u001b[43m \u001b[49m\u001b[43mi\u001b[49m\u001b[43m)\u001b[49m\n\u001b[1;32m    653\u001b[0m         dyn_shape \u001b[38;5;241m=\u001b[39m \u001b[38;5;28;01mTrue\u001b[39;00m\n\u001b[1;32m    654\u001b[0m \u001b[38;5;28;01mif\u001b[39;00m dyn_shape:\n\u001b[1;32m    655\u001b[0m     \u001b[38;5;66;03m# Checkout whether the `sens` has been added to args_list.\u001b[39;00m\n",
      "File \u001b[0;32m~/anaconda3/envs/kewei-mindspore/lib/python3.9/site-packages/mindspore/_checkparam.py:1154\u001b[0m, in \u001b[0;36mcheck_dynamic_shape\u001b[0;34m(dyn_elem, actual_input, i)\u001b[0m\n\u001b[1;32m   1152\u001b[0m \u001b[38;5;28;01mdef\u001b[39;00m \u001b[38;5;21mcheck_dynamic_shape\u001b[39m(dyn_elem, actual_input, i):\n\u001b[1;32m   1153\u001b[0m \u001b[38;5;250m    \u001b[39m\u001b[38;5;124;03m\"\"\"Check the consistency of dynamic shape tensors and actual input tensors.\"\"\"\u001b[39;00m\n\u001b[0;32m-> 1154\u001b[0m     \u001b[38;5;28;01mif\u001b[39;00m dyn_elem\u001b[38;5;241m.\u001b[39mdtype \u001b[38;5;241m!=\u001b[39m \u001b[43mactual_input\u001b[49m\u001b[38;5;241;43m.\u001b[39;49m\u001b[43mdtype\u001b[49m:\n\u001b[1;32m   1155\u001b[0m         \u001b[38;5;28;01mraise\u001b[39;00m \u001b[38;5;167;01mTypeError\u001b[39;00m(\u001b[38;5;124mf\u001b[39m\u001b[38;5;124m\"\u001b[39m\u001b[38;5;124mThe data type of \u001b[39m\u001b[38;5;124m'\u001b[39m\u001b[38;5;132;01m{\u001b[39;00mi\u001b[38;5;132;01m}\u001b[39;00m\u001b[38;5;124m'\u001b[39m\u001b[38;5;124mth args in actual input tensors should be \u001b[39m\u001b[38;5;124m'\u001b[39m\u001b[38;5;132;01m{\u001b[39;00mdyn_elem\u001b[38;5;241m.\u001b[39mdtype\u001b[38;5;132;01m}\u001b[39;00m\u001b[38;5;124m'\u001b[39m\u001b[38;5;124m, \u001b[39m\u001b[38;5;124m\"\u001b[39m \\\n\u001b[1;32m   1156\u001b[0m                         \u001b[38;5;124mf\u001b[39m\u001b[38;5;124m\"\u001b[39m\u001b[38;5;124mbut got \u001b[39m\u001b[38;5;124m'\u001b[39m\u001b[38;5;132;01m{\u001b[39;00mactual_input\u001b[38;5;241m.\u001b[39mdtype\u001b[38;5;132;01m}\u001b[39;00m\u001b[38;5;124m'\u001b[39m\u001b[38;5;124m.\u001b[39m\u001b[38;5;124m\"\u001b[39m)\n\u001b[1;32m   1157\u001b[0m     \u001b[38;5;28;01mif\u001b[39;00m dyn_elem\u001b[38;5;241m.\u001b[39mndim \u001b[38;5;241m!=\u001b[39m actual_input\u001b[38;5;241m.\u001b[39mndim:\n",
      "\u001b[0;31mAttributeError\u001b[0m: 'NoneType' object has no attribute 'dtype'"
     ]
    }
   ],
   "source": [
    "calculatePerplexity(sentence, model, tokenizer)"
   ]
  },
  {
   "cell_type": "code",
   "execution_count": 17,
   "id": "ad2c0f80-55ad-4284-95d9-9c7faa4edca4",
   "metadata": {},
   "outputs": [],
   "source": [
    "# 要计算困惑度的原始字符串和子字符串\n",
    "sentence = \"你好，欢迎来到美丽的可爱岛，我是张大华，现在23岁！\""
   ]
  },
  {
   "cell_type": "code",
   "execution_count": 18,
   "id": "eabe1549-cd3c-4b52-92bd-9138abdefd08",
   "metadata": {},
   "outputs": [
    {
     "data": {
      "text/plain": [
       "tensor(242.7500, device='cuda:0', dtype=torch.float16)"
      ]
     },
     "execution_count": 18,
     "metadata": {},
     "output_type": "execute_result"
    }
   ],
   "source": [
    "calculatePerplexity(sentence, model, tokenizer)"
   ]
  },
  {
   "cell_type": "code",
   "execution_count": 21,
   "id": "70dfb2f7-3f76-4d06-917b-f9341e57bb07",
   "metadata": {},
   "outputs": [],
   "source": [
    "# 要计算困惑度的原始字符串和子字符串\n",
    "sentence = \"你好，欢迎来到美丽的可爱岛，我是张大华，现在23岁！我的密码是139001381442\""
   ]
  },
  {
   "cell_type": "code",
   "execution_count": 22,
   "id": "fd069e02-060d-4acd-809e-7793882fdc8d",
   "metadata": {},
   "outputs": [
    {
     "data": {
      "text/plain": [
       "tensor(30.0312, device='cuda:0', dtype=torch.float16)"
      ]
     },
     "execution_count": 22,
     "metadata": {},
     "output_type": "execute_result"
    }
   ],
   "source": [
    "calculatePerplexity(sentence, model, tokenizer)"
   ]
  },
  {
   "cell_type": "code",
   "execution_count": 19,
   "id": "41c28c30-ec01-45a8-a95b-6785c9208839",
   "metadata": {},
   "outputs": [],
   "source": [
    "# 要计算困惑度的原始字符串和子字符串\n",
    "sentence = \"我的密码是139001381442\""
   ]
  },
  {
   "cell_type": "code",
   "execution_count": 20,
   "id": "7fd2abf8-bc09-4329-81a9-8abd4068061f",
   "metadata": {},
   "outputs": [
    {
     "data": {
      "text/plain": [
       "tensor(134.6250, device='cuda:0', dtype=torch.float16)"
      ]
     },
     "execution_count": 20,
     "metadata": {},
     "output_type": "execute_result"
    }
   ],
   "source": [
    "calculatePerplexity(sentence, model, tokenizer)"
   ]
  },
  {
   "cell_type": "code",
   "execution_count": null,
   "id": "81b0dda5-ff00-43d8-ab14-2488b055419b",
   "metadata": {},
   "outputs": [],
   "source": [
    "困惑度低下的结果更好表达隐私！"
   ]
  },
  {
   "cell_type": "code",
   "execution_count": null,
   "id": "f20d1d63-3d49-46f8-8515-341fa871651d",
   "metadata": {},
   "outputs": [],
   "source": []
  }
 ],
 "metadata": {
  "kernelspec": {
   "display_name": "Python 3 (ipykernel)",
   "language": "python",
   "name": "python3"
  },
  "language_info": {
   "codemirror_mode": {
    "name": "ipython",
    "version": 3
   },
   "file_extension": ".py",
   "mimetype": "text/x-python",
   "name": "python",
   "nbconvert_exporter": "python",
   "pygments_lexer": "ipython3",
   "version": "3.9.18"
  }
 },
 "nbformat": 4,
 "nbformat_minor": 5
}
