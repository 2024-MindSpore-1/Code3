{
 "cells": [
  {
   "cell_type": "code",
   "execution_count": 1,
   "id": "83de07f4-cafe-4be8-96f8-2fa690ce6920",
   "metadata": {},
   "outputs": [
    {
     "name": "stderr",
     "output_type": "stream",
     "text": [
      "/home/daiyuxin/anaconda3/envs/kewei-mindspore/lib/python3.9/site-packages/mindnlp/utils/download.py:29: TqdmExperimentalWarning: Using `tqdm.autonotebook.tqdm` in notebook mode. Use `tqdm.tqdm` instead to force console mode (e.g. in jupyter console)\n",
      "  from tqdm.autonotebook import tqdm\n"
     ]
    }
   ],
   "source": [
    "\"\"\"Test ChatGLM\"\"\"\n",
    "import random\n",
    "import unittest\n",
    "import numpy as np\n",
    "\n",
    "import mindspore\n",
    "from mindspore import Tensor\n",
    "\n",
    "from mindnlp.models.glm.chatglm import ChatGLMForConditionalGeneration\n",
    "from mindnlp.transforms.tokenizers import ChatGLMTokenizer"
   ]
  },
  {
   "cell_type": "code",
   "execution_count": 2,
   "id": "078be6fb-c709-42e8-98fb-bb49ef851095",
   "metadata": {},
   "outputs": [],
   "source": [
    "def set_random_seed(seed):\n",
    "    \"\"\"set random seed\"\"\"\n",
    "    random.seed(seed)\n",
    "\n",
    "    # mindspore RNGs\n",
    "    mindspore.set_seed(seed)\n",
    "\n",
    "    # numpy RNG\n",
    "    np.random.seed(seed)\n",
    "\n",
    "\n",
    "def ids_tensor(shape, vocab_size):\n",
    "    \"\"\"Creates a random int32 tensor of the shape within the vocab size\"\"\"\n",
    "    total_dims = 1\n",
    "    for dim in shape:\n",
    "        total_dims *= dim\n",
    "\n",
    "    values = []\n",
    "    for _ in range(total_dims):\n",
    "        values.append(random.randint(0, vocab_size - 1))\n",
    "\n",
    "    return mindspore.Tensor(values, dtype=mindspore.int64).view(shape)\n",
    "\n",
    "\n",
    "def get_model_and_tokenizer():\n",
    "    \"\"\"get model and tokenizer\"\"\"\n",
    "    model = ChatGLMForConditionalGeneration.from_pretrained(\"chatglm-6b\")\n",
    "\n",
    "    tokenizer = ChatGLMTokenizer.from_pretrained(\"chatglm-6b\")\n",
    "    return model, tokenizer"
   ]
  },
  {
   "cell_type": "code",
   "execution_count": 3,
   "id": "a94bdf57-8ad0-4c57-a135-25d3b426504f",
   "metadata": {},
   "outputs": [
    {
     "data": {
      "application/vnd.jupyter.widget-view+json": {
       "model_id": "511725ff77244f4b9656ebfad1165477",
       "version_major": 2,
       "version_minor": 0
      },
      "text/plain": [
       "Loading checkpoint shards:   0%|          | 0/8 [00:00<?, ?it/s]"
      ]
     },
     "metadata": {},
     "output_type": "display_data"
    },
    {
     "name": "stderr",
     "output_type": "stream",
     "text": [
      "[WARNING] ME(1883886:140633567283008,MainProcess):2023-09-19-20:55:36.959.960 [mindspore/lib/python3.9/site-packages/mindnlp/abc/models/pretrained_model.py:457] The following parameters in checkpoint files are not loaded:\n",
      "['transformer.layers.0.attention.rotary_emb.inv_freq', 'transformer.layers.1.attention.rotary_emb.inv_freq', 'transformer.layers.2.attention.rotary_emb.inv_freq', 'transformer.layers.3.attention.rotary_emb.inv_freq', 'transformer.layers.4.attention.rotary_emb.inv_freq', 'transformer.layers.5.attention.rotary_emb.inv_freq', 'transformer.layers.6.attention.rotary_emb.inv_freq', 'transformer.layers.10.attention.rotary_emb.inv_freq', 'transformer.layers.11.attention.rotary_emb.inv_freq', 'transformer.layers.7.attention.rotary_emb.inv_freq', 'transformer.layers.8.attention.rotary_emb.inv_freq', 'transformer.layers.9.attention.rotary_emb.inv_freq', 'transformer.layers.12.attention.rotary_emb.inv_freq', 'transformer.layers.13.attention.rotary_emb.inv_freq', 'transformer.layers.14.attention.rotary_emb.inv_freq', 'transformer.layers.15.attention.rotary_emb.inv_freq', 'transformer.layers.16.attention.rotary_emb.inv_freq', 'transformer.layers.17.attention.rotary_emb.inv_freq', 'transformer.layers.18.attention.rotary_emb.inv_freq', 'transformer.layers.19.attention.rotary_emb.inv_freq', 'transformer.layers.20.attention.rotary_emb.inv_freq', 'transformer.layers.21.attention.rotary_emb.inv_freq', 'transformer.layers.22.attention.rotary_emb.inv_freq', 'transformer.layers.23.attention.rotary_emb.inv_freq', 'transformer.layers.24.attention.rotary_emb.inv_freq', 'transformer.layers.25.attention.rotary_emb.inv_freq', 'transformer.layers.26.attention.rotary_emb.inv_freq', 'transformer.layers.27.attention.rotary_emb.inv_freq']\n"
     ]
    }
   ],
   "source": [
    "model = ChatGLMForConditionalGeneration.from_pretrained(\"chatglm-6b\")"
   ]
  },
  {
   "cell_type": "code",
   "execution_count": 4,
   "id": "730180fb-5b2a-4ef8-b783-268c176b68a2",
   "metadata": {},
   "outputs": [],
   "source": [
    "# while True:\n",
    "#     try:\n",
    "#         model = ChatGLMForConditionalGeneration.from_pretrained(\"chatglm-6b\")\n",
    "#         break\n",
    "#     except:\n",
    "#         continue"
   ]
  },
  {
   "cell_type": "code",
   "execution_count": 7,
   "id": "53178905-ed37-4ea1-b806-79c8ec917332",
   "metadata": {},
   "outputs": [
    {
     "data": {
      "text/plain": [
       "\u001b[0;31mSignature:\u001b[0m      \u001b[0mtokenizer\u001b[0m\u001b[0;34m(\u001b[0m\u001b[0mtext_input\u001b[0m\u001b[0;34m)\u001b[0m\u001b[0;34m\u001b[0m\u001b[0;34m\u001b[0m\u001b[0m\n",
       "\u001b[0;31mType:\u001b[0m           ChatGLMTokenizer\n",
       "\u001b[0;31mString form:\u001b[0m    <mindnlp.transforms.tokenizers.chatglm_tokenizer.ChatGLMTokenizer object at 0x7fe6cc365130>\n",
       "\u001b[0;31mFile:\u001b[0m           ~/anaconda3/envs/kewei-mindspore/lib/python3.9/site-packages/mindnlp/transforms/tokenizers/chatglm_tokenizer.py\n",
       "\u001b[0;31mDocstring:\u001b[0m     \n",
       "Construct a ChatGLM tokenizer. Based on byte-level Byte-Pair-Encoding.\n",
       "\n",
       "Args:\n",
       "    vocab_file (`str`):\n",
       "        Path to the vocabulary file.\n",
       "\u001b[0;31mCall docstring:\u001b[0m Call method for input conversion for eager mode with C++ implementation."
      ]
     },
     "metadata": {},
     "output_type": "display_data"
    }
   ],
   "source": [
    "?tokenizer"
   ]
  },
  {
   "cell_type": "code",
   "execution_count": 5,
   "id": "83f87997-9317-48c3-8e7f-ffecc4507e28",
   "metadata": {},
   "outputs": [],
   "source": [
    "tokenizer = ChatGLMTokenizer.from_pretrained(\"chatglm-6b\")"
   ]
  },
  {
   "cell_type": "code",
   "execution_count": 9,
   "id": "108175bc-dc4c-444c-bbdf-67c6fc2bb348",
   "metadata": {},
   "outputs": [
    {
     "data": {
      "text/plain": [
       "\u001b[0;31mSignature:\u001b[0m\n",
       "\u001b[0mmodel\u001b[0m\u001b[0;34m.\u001b[0m\u001b[0mstream_chat\u001b[0m\u001b[0;34m(\u001b[0m\u001b[0;34m\u001b[0m\n",
       "\u001b[0;34m\u001b[0m    \u001b[0mtokenizer\u001b[0m\u001b[0;34m,\u001b[0m\u001b[0;34m\u001b[0m\n",
       "\u001b[0;34m\u001b[0m    \u001b[0mquery\u001b[0m\u001b[0;34m:\u001b[0m \u001b[0mstr\u001b[0m\u001b[0;34m,\u001b[0m\u001b[0;34m\u001b[0m\n",
       "\u001b[0;34m\u001b[0m    \u001b[0mhistory\u001b[0m\u001b[0;34m:\u001b[0m \u001b[0mList\u001b[0m\u001b[0;34m[\u001b[0m\u001b[0mTuple\u001b[0m\u001b[0;34m[\u001b[0m\u001b[0mstr\u001b[0m\u001b[0;34m,\u001b[0m \u001b[0mstr\u001b[0m\u001b[0;34m]\u001b[0m\u001b[0;34m]\u001b[0m \u001b[0;34m=\u001b[0m \u001b[0;32mNone\u001b[0m\u001b[0;34m,\u001b[0m\u001b[0;34m\u001b[0m\n",
       "\u001b[0;34m\u001b[0m    \u001b[0mmax_length\u001b[0m\u001b[0;34m:\u001b[0m \u001b[0mint\u001b[0m \u001b[0;34m=\u001b[0m \u001b[0;36m2048\u001b[0m\u001b[0;34m,\u001b[0m\u001b[0;34m\u001b[0m\n",
       "\u001b[0;34m\u001b[0m    \u001b[0mdo_sample\u001b[0m\u001b[0;34m=\u001b[0m\u001b[0;32mTrue\u001b[0m\u001b[0;34m,\u001b[0m\u001b[0;34m\u001b[0m\n",
       "\u001b[0;34m\u001b[0m    \u001b[0mtop_p\u001b[0m\u001b[0;34m=\u001b[0m\u001b[0;36m0.7\u001b[0m\u001b[0;34m,\u001b[0m\u001b[0;34m\u001b[0m\n",
       "\u001b[0;34m\u001b[0m    \u001b[0mtemperature\u001b[0m\u001b[0;34m=\u001b[0m\u001b[0;36m0.95\u001b[0m\u001b[0;34m,\u001b[0m\u001b[0;34m\u001b[0m\n",
       "\u001b[0;34m\u001b[0m    \u001b[0mlogits_processor\u001b[0m\u001b[0;34m=\u001b[0m\u001b[0;32mNone\u001b[0m\u001b[0;34m,\u001b[0m\u001b[0;34m\u001b[0m\n",
       "\u001b[0;34m\u001b[0m    \u001b[0;34m**\u001b[0m\u001b[0mkwargs\u001b[0m\u001b[0;34m,\u001b[0m\u001b[0;34m\u001b[0m\n",
       "\u001b[0;34m\u001b[0m\u001b[0;34m)\u001b[0m\u001b[0;34m\u001b[0m\u001b[0;34m\u001b[0m\u001b[0m\n",
       "\u001b[0;31mSource:\u001b[0m   \n",
       "    \u001b[0;32mdef\u001b[0m \u001b[0mstream_chat\u001b[0m\u001b[0;34m(\u001b[0m\u001b[0mself\u001b[0m\u001b[0;34m,\u001b[0m \u001b[0mtokenizer\u001b[0m\u001b[0;34m,\u001b[0m \u001b[0mquery\u001b[0m\u001b[0;34m:\u001b[0m \u001b[0mstr\u001b[0m\u001b[0;34m,\u001b[0m \u001b[0mhistory\u001b[0m\u001b[0;34m:\u001b[0m \u001b[0mList\u001b[0m\u001b[0;34m[\u001b[0m\u001b[0mTuple\u001b[0m\u001b[0;34m[\u001b[0m\u001b[0mstr\u001b[0m\u001b[0;34m,\u001b[0m \u001b[0mstr\u001b[0m\u001b[0;34m]\u001b[0m\u001b[0;34m]\u001b[0m \u001b[0;34m=\u001b[0m \u001b[0;32mNone\u001b[0m\u001b[0;34m,\u001b[0m \u001b[0mmax_length\u001b[0m\u001b[0;34m:\u001b[0m \u001b[0mint\u001b[0m \u001b[0;34m=\u001b[0m \u001b[0;36m2048\u001b[0m\u001b[0;34m,\u001b[0m\u001b[0;34m\u001b[0m\n",
       "\u001b[0;34m\u001b[0m                    \u001b[0mdo_sample\u001b[0m\u001b[0;34m=\u001b[0m\u001b[0;32mTrue\u001b[0m\u001b[0;34m,\u001b[0m \u001b[0mtop_p\u001b[0m\u001b[0;34m=\u001b[0m\u001b[0;36m0.7\u001b[0m\u001b[0;34m,\u001b[0m \u001b[0mtemperature\u001b[0m\u001b[0;34m=\u001b[0m\u001b[0;36m0.95\u001b[0m\u001b[0;34m,\u001b[0m \u001b[0mlogits_processor\u001b[0m\u001b[0;34m=\u001b[0m\u001b[0;32mNone\u001b[0m\u001b[0;34m,\u001b[0m \u001b[0;34m**\u001b[0m\u001b[0mkwargs\u001b[0m\u001b[0;34m)\u001b[0m\u001b[0;34m:\u001b[0m\u001b[0;34m\u001b[0m\n",
       "\u001b[0;34m\u001b[0m        \u001b[0;34m\"\"\"stream chat\"\"\"\u001b[0m\u001b[0;34m\u001b[0m\n",
       "\u001b[0;34m\u001b[0m        \u001b[0;32mif\u001b[0m \u001b[0mhistory\u001b[0m \u001b[0;32mis\u001b[0m \u001b[0;32mNone\u001b[0m\u001b[0;34m:\u001b[0m\u001b[0;34m\u001b[0m\n",
       "\u001b[0;34m\u001b[0m            \u001b[0mhistory\u001b[0m \u001b[0;34m=\u001b[0m \u001b[0;34m[\u001b[0m\u001b[0;34m]\u001b[0m\u001b[0;34m\u001b[0m\n",
       "\u001b[0;34m\u001b[0m        \u001b[0;32mif\u001b[0m \u001b[0mlogits_processor\u001b[0m \u001b[0;32mis\u001b[0m \u001b[0;32mNone\u001b[0m\u001b[0;34m:\u001b[0m\u001b[0;34m\u001b[0m\n",
       "\u001b[0;34m\u001b[0m            \u001b[0mlogits_processor\u001b[0m \u001b[0;34m=\u001b[0m \u001b[0mLogitsProcessorList\u001b[0m\u001b[0;34m(\u001b[0m\u001b[0;34m)\u001b[0m\u001b[0;34m\u001b[0m\n",
       "\u001b[0;34m\u001b[0m        \u001b[0mlogits_processor\u001b[0m\u001b[0;34m.\u001b[0m\u001b[0mappend\u001b[0m\u001b[0;34m(\u001b[0m\u001b[0mInvalidScoreLogitsProcessor\u001b[0m\u001b[0;34m(\u001b[0m\u001b[0;34m)\u001b[0m\u001b[0;34m)\u001b[0m\u001b[0;34m\u001b[0m\n",
       "\u001b[0;34m\u001b[0m        \u001b[0mgen_kwargs\u001b[0m \u001b[0;34m=\u001b[0m \u001b[0;34m{\u001b[0m\u001b[0;34m\"max_length\"\u001b[0m\u001b[0;34m:\u001b[0m \u001b[0mmax_length\u001b[0m\u001b[0;34m,\u001b[0m \u001b[0;34m\"do_sample\"\u001b[0m\u001b[0;34m:\u001b[0m \u001b[0mdo_sample\u001b[0m\u001b[0;34m,\u001b[0m \u001b[0;34m\"top_p\"\u001b[0m\u001b[0;34m:\u001b[0m \u001b[0mtop_p\u001b[0m\u001b[0;34m,\u001b[0m\u001b[0;34m\u001b[0m\n",
       "\u001b[0;34m\u001b[0m                      \u001b[0;34m\"temperature\"\u001b[0m\u001b[0;34m:\u001b[0m \u001b[0mtemperature\u001b[0m\u001b[0;34m,\u001b[0m \u001b[0;34m\"logits_processor\"\u001b[0m\u001b[0;34m:\u001b[0m \u001b[0mlogits_processor\u001b[0m\u001b[0;34m,\u001b[0m \u001b[0;34m**\u001b[0m\u001b[0mkwargs\u001b[0m\u001b[0;34m}\u001b[0m\u001b[0;34m\u001b[0m\n",
       "\u001b[0;34m\u001b[0m        \u001b[0;32mif\u001b[0m \u001b[0;32mnot\u001b[0m \u001b[0mhistory\u001b[0m\u001b[0;34m:\u001b[0m\u001b[0;34m\u001b[0m\n",
       "\u001b[0;34m\u001b[0m            \u001b[0mprompt\u001b[0m \u001b[0;34m=\u001b[0m \u001b[0mquery\u001b[0m\u001b[0;34m\u001b[0m\n",
       "\u001b[0;34m\u001b[0m        \u001b[0;32melse\u001b[0m\u001b[0;34m:\u001b[0m\u001b[0;34m\u001b[0m\n",
       "\u001b[0;34m\u001b[0m            \u001b[0mprompt\u001b[0m \u001b[0;34m=\u001b[0m \u001b[0;34m\"\"\u001b[0m\u001b[0;34m\u001b[0m\n",
       "\u001b[0;34m\u001b[0m            \u001b[0;32mfor\u001b[0m \u001b[0mi\u001b[0m\u001b[0;34m,\u001b[0m \u001b[0;34m(\u001b[0m\u001b[0mold_query\u001b[0m\u001b[0;34m,\u001b[0m \u001b[0mresponse\u001b[0m\u001b[0;34m)\u001b[0m \u001b[0;32min\u001b[0m \u001b[0menumerate\u001b[0m\u001b[0;34m(\u001b[0m\u001b[0mhistory\u001b[0m\u001b[0;34m)\u001b[0m\u001b[0;34m:\u001b[0m\u001b[0;34m\u001b[0m\n",
       "\u001b[0;34m\u001b[0m                \u001b[0mprompt\u001b[0m \u001b[0;34m+=\u001b[0m \u001b[0;34m\"[Round {}]\\n问：{}\\n答：{}\\n\"\u001b[0m\u001b[0;34m.\u001b[0m\u001b[0mformat\u001b[0m\u001b[0;34m(\u001b[0m\u001b[0mi\u001b[0m\u001b[0;34m,\u001b[0m \u001b[0mold_query\u001b[0m\u001b[0;34m,\u001b[0m \u001b[0mresponse\u001b[0m\u001b[0;34m)\u001b[0m\u001b[0;34m\u001b[0m\n",
       "\u001b[0;34m\u001b[0m            \u001b[0mprompt\u001b[0m \u001b[0;34m+=\u001b[0m \u001b[0;34m\"[Round {}]\\n问：{}\\n答：\"\u001b[0m\u001b[0;34m.\u001b[0m\u001b[0mformat\u001b[0m\u001b[0;34m(\u001b[0m\u001b[0mlen\u001b[0m\u001b[0;34m(\u001b[0m\u001b[0mhistory\u001b[0m\u001b[0;34m)\u001b[0m\u001b[0;34m,\u001b[0m \u001b[0mquery\u001b[0m\u001b[0;34m)\u001b[0m\u001b[0;34m\u001b[0m\n",
       "\u001b[0;34m\u001b[0m        \u001b[0minputs\u001b[0m \u001b[0;34m=\u001b[0m \u001b[0mtokenizer\u001b[0m\u001b[0;34m(\u001b[0m\u001b[0;34m[\u001b[0m\u001b[0mprompt\u001b[0m\u001b[0;34m]\u001b[0m\u001b[0;34m,\u001b[0m \u001b[0mreturn_tensors\u001b[0m\u001b[0;34m=\u001b[0m\u001b[0;34m\"pt\"\u001b[0m\u001b[0;34m)\u001b[0m\u001b[0;34m\u001b[0m\n",
       "\u001b[0;34m\u001b[0m        \u001b[0;32mfor\u001b[0m \u001b[0moutputs\u001b[0m \u001b[0;32min\u001b[0m \u001b[0mself\u001b[0m\u001b[0;34m.\u001b[0m\u001b[0mstream_generate\u001b[0m\u001b[0;34m(\u001b[0m\u001b[0;34m**\u001b[0m\u001b[0minputs\u001b[0m\u001b[0;34m,\u001b[0m \u001b[0;34m**\u001b[0m\u001b[0mgen_kwargs\u001b[0m\u001b[0;34m)\u001b[0m\u001b[0;34m:\u001b[0m\u001b[0;34m\u001b[0m\n",
       "\u001b[0;34m\u001b[0m            \u001b[0moutputs\u001b[0m \u001b[0;34m=\u001b[0m \u001b[0moutputs\u001b[0m\u001b[0;34m.\u001b[0m\u001b[0mtolist\u001b[0m\u001b[0;34m(\u001b[0m\u001b[0;34m)\u001b[0m\u001b[0;34m[\u001b[0m\u001b[0;36m0\u001b[0m\u001b[0;34m]\u001b[0m\u001b[0;34m[\u001b[0m\u001b[0mlen\u001b[0m\u001b[0;34m(\u001b[0m\u001b[0minputs\u001b[0m\u001b[0;34m[\u001b[0m\u001b[0;34m\"input_ids\"\u001b[0m\u001b[0;34m]\u001b[0m\u001b[0;34m[\u001b[0m\u001b[0;36m0\u001b[0m\u001b[0;34m]\u001b[0m\u001b[0;34m)\u001b[0m\u001b[0;34m:\u001b[0m\u001b[0;34m]\u001b[0m\u001b[0;34m\u001b[0m\n",
       "\u001b[0;34m\u001b[0m            \u001b[0mresponse\u001b[0m \u001b[0;34m=\u001b[0m \u001b[0mtokenizer\u001b[0m\u001b[0;34m.\u001b[0m\u001b[0mdecode\u001b[0m\u001b[0;34m(\u001b[0m\u001b[0moutputs\u001b[0m\u001b[0;34m)\u001b[0m\u001b[0;34m\u001b[0m\n",
       "\u001b[0;34m\u001b[0m            \u001b[0mresponse\u001b[0m \u001b[0;34m=\u001b[0m \u001b[0mself\u001b[0m\u001b[0;34m.\u001b[0m\u001b[0mprocess_response\u001b[0m\u001b[0;34m(\u001b[0m\u001b[0mresponse\u001b[0m\u001b[0;34m)\u001b[0m\u001b[0;34m\u001b[0m\n",
       "\u001b[0;34m\u001b[0m            \u001b[0mnew_history\u001b[0m \u001b[0;34m=\u001b[0m \u001b[0mhistory\u001b[0m \u001b[0;34m+\u001b[0m \u001b[0;34m[\u001b[0m\u001b[0;34m(\u001b[0m\u001b[0mquery\u001b[0m\u001b[0;34m,\u001b[0m \u001b[0mresponse\u001b[0m\u001b[0;34m)\u001b[0m\u001b[0;34m]\u001b[0m\u001b[0;34m\u001b[0m\n",
       "\u001b[0;34m\u001b[0m            \u001b[0;32myield\u001b[0m \u001b[0mresponse\u001b[0m\u001b[0;34m,\u001b[0m \u001b[0mnew_history\u001b[0m\u001b[0;34m\u001b[0m\u001b[0;34m\u001b[0m\u001b[0m\n",
       "\u001b[0;31mFile:\u001b[0m      ~/anaconda3/envs/kewei-mindspore/lib/python3.9/site-packages/mindnlp/models/glm/chatglm.py\n",
       "\u001b[0;31mType:\u001b[0m      method"
      ]
     },
     "metadata": {},
     "output_type": "display_data"
    }
   ],
   "source": [
    "??model.stream_chat"
   ]
  },
  {
   "cell_type": "code",
   "execution_count": 14,
   "id": "cca9fa1e-4f69-495c-82e5-5eb446a109e7",
   "metadata": {},
   "outputs": [],
   "source": [
    "from mindnlp.models.glm.chatglm import LogitsProcessorList,InvalidScoreLogitsProcessor"
   ]
  },
  {
   "cell_type": "code",
   "execution_count": 17,
   "id": "afc3cd02-3e0d-48d3-a9d3-905832648182",
   "metadata": {},
   "outputs": [],
   "source": [
    "def stream_chat(tokenizer, query: str, history= None, max_length: int = 2048,\n",
    "                do_sample=True, top_p=0.7, temperature=0.95, logits_processor=None, **kwargs):\n",
    "    \"\"\"stream chat\"\"\"\n",
    "    if history is None:\n",
    "        history = []\n",
    "    if logits_processor is None:\n",
    "        logits_processor = LogitsProcessorList()\n",
    "    logits_processor.append(InvalidScoreLogitsProcessor())\n",
    "    gen_kwargs = {\"max_length\": max_length, \"do_sample\": do_sample, \"top_p\": top_p,\n",
    "                  \"temperature\": temperature, \"logits_processor\": logits_processor, **kwargs}\n",
    "    if not history:\n",
    "        prompt = query\n",
    "    else:\n",
    "        prompt = \"\"\n",
    "        for i, (old_query, response) in enumerate(history):\n",
    "            prompt += \"[Round {}]\\n问：{}\\n答：{}\\n\".format(i, old_query, response)\n",
    "        prompt += \"[Round {}]\\n问：{}\\n答：\".format(len(history), query)\n",
    "    inputs = tokenizer(prompt)\n",
    "    for outputs in model.stream_generate(**inputs, **gen_kwargs):\n",
    "        outputs = outputs.tolist()[0][len(inputs[\"input_ids\"][0]):]\n",
    "        response = tokenizer.decode(outputs)\n",
    "        response = model.process_response(response)\n",
    "        new_history = history + [(query, response)]\n",
    "        yield response, new_history"
   ]
  },
  {
   "cell_type": "code",
   "execution_count": 32,
   "id": "db39cf04-6400-4f08-bb86-68cd179be811",
   "metadata": {},
   "outputs": [],
   "source": [
    "import mindspore as ms"
   ]
  },
  {
   "cell_type": "code",
   "execution_count": 33,
   "id": "baefd515-531f-40e9-ae0e-1c264fced791",
   "metadata": {},
   "outputs": [],
   "source": [
    "def chat(tokenizer, query: str, history = None, max_length: int = 2048, num_beams=1,\n",
    "         do_sample=True, top_p=0.7, temperature=0.95, logits_processor=None, **kwargs):\n",
    "    \"\"\"chat.\"\"\"\n",
    "    if history is None:\n",
    "        history = []\n",
    "    if logits_processor is None:\n",
    "        logits_processor = LogitsProcessorList()\n",
    "    logits_processor.append(InvalidScoreLogitsProcessor())\n",
    "    gen_kwargs = {\"max_length\": max_length, \"num_beams\": num_beams, \"do_sample\": do_sample, \"top_p\": top_p,\n",
    "                  \"temperature\": temperature, \"logits_processor\": logits_processor, **kwargs}\n",
    "    if not history:\n",
    "        prompt = query\n",
    "    else:\n",
    "        prompt = \"\"\n",
    "        for i, (old_query, response) in enumerate(history):\n",
    "            prompt += \"[Round {}]\\n问：{}\\n答：{}\\n\".format(i, old_query, response)\n",
    "        prompt += \"[Round {}]\\n问：{}\\n答：\".format(len(history), query)\n",
    "    inputs = tokenizer(prompt)\n",
    "    outputs = model.generate(ms.Tensor(inputs), **gen_kwargs)\n",
    "    outputs = outputs.tolist()[0][len(inputs[\"input_ids\"][0]):]\n",
    "    response = tokenizer.decode(outputs)\n",
    "    response = model.process_response(response)\n",
    "    history = history + [(query, response)]\n",
    "    return response, history"
   ]
  },
  {
   "cell_type": "code",
   "execution_count": 35,
   "id": "d85e8d43-0304-408c-9d87-21ecb53b4934",
   "metadata": {},
   "outputs": [
    {
     "name": "stdout",
     "output_type": "stream",
     "text": [
      "晚上睡不着怎么办 以下是一些可能有助于改善晚上睡不着的方法:\n",
      "\n",
      "1. 保持规律的睡眠时间:尽量在同一时间入睡和起床,即使在周末和假期也要保持一致。\n",
      "\n",
      "2. 创造舒适的睡眠环境:保持房间安静、凉爽、黑暗和舒适。使用舒适的床垫和枕头,并确保房间的温度适宜。\n",
      "\n",
      "3. 放松身体和思维:在睡前进行一些放松活动,如冥想、深呼吸、瑜伽或渐进性肌肉松弛练习。避免使用电子设备,因为它们会刺激大脑,使你更加清醒。\n",
      "\n",
      "4. 避免饮食和饮料:在睡前几个小时内避免饮用咖啡、茶、可乐和其他含咖啡因的饮料。避免吃辛辣、油腻或难以消化的食物。\n",
      "\n",
      "5. 避免过度兴奋:在睡前几个小时内避免进行过度兴奋的活动,如看电视、玩游戏或工作。\n",
      "\n",
      "6. 尝试使用睡眠辅助工具:如果以上方法仍然无法帮助入睡,可以考虑使用睡眠辅助工具,如白噪音、振动器或睡眠面罩。\n",
      "\n",
      "如果这些方法无效,建议咨询医生或睡眠专家,以获取更专业的建议和帮助。\n",
      "介绍一下清华大学 清华大学是中国著名的综合性大学,位于北京市海淀区,创建于1911年,前身是清华学堂。学校被誉为“中国科学的摇篮”,是中国政府和企业的重要人才培养基地之一。\n",
      "\n",
      "清华大学在工程、科学、经济、管理、文学、艺术、哲学、法学等领域都拥有\n",
      "推荐几个电影 以下都是不同类型的电影,可以根据自己的喜好选择观看:\n",
      "\n",
      "1.《肖申克的救赎》(The Shawshank Redemption):一部经典的剧情片,讲述了一个银行家在肖申克监狱中的故事,讲述了希望、友谊和自由的重要性。\n",
      "\n",
      "2.《泰坦尼克号》(Titanic):一部浪漫史诗片,讲述了一对来自不同社会阶层的情侣在泰坦尼克号号船上的故事,讲述了爱情、勇气和生命的重要性。\n",
      "\n",
      "3.《阿甘正传》(Forrest Gump):一部经典的剧情片,讲述了一个智商不高但乐观向上的男人在生命中的故事,讲述了人生的意义、爱、友谊和生命的重要性。\n",
      "\n",
      "4.《星际穿越》(Interstellar):一部科幻片,讲述了一组宇航员在宇宙中探索新星系的故事,讲述了人类的生存、希望和勇气。\n",
      "\n",
      "5.《少年派的奇幻漂流》(Life of Pi):一部冒险片,讲述了一个印度少年在海上漂流中的故事,讲述了信仰、友谊和生命的重要性。\n",
      "怎么用Pytorch写一个模型? \n",
      "\n",
      "PyTorch 是一个强大的深度学习框架,它提供了许多方便的工具和函数,使得编写深度学习模型变得更加容易。下面是一个简单的 PyTorch 模型编写示例,用于生成随机序列:\n",
      "\n",
      "```python\n",
      "import torch\n",
      "import torch.nn as nn\n",
      "import torch.optim as optim\n",
      "\n",
      "class TextRNN(nn.Module):\n",
      "    def __init__(self, num_classes):\n",
      "        super(TextRNN, self).__init__()\n",
      "        self.fc1 = nn.Linear(1024, num_classes)\n",
      "        self.fc2 = nn.Linear(num_classes, 1)\n",
      "\n",
      "    def forward(self, x):\n",
      "        x = self.fc1(x)\n",
      "        x = self.fc2(x)\n",
      "        return x\n",
      "\n",
      "model = TextRNN(num_classes=10)\n",
      "optimizer = optim.Adam(model.parameters())\n",
      "\n",
      "# 训练模型\n",
      "for epoch in range(num_epochs):\n",
      "    for inputs, targets in dataloader:\n",
      "        optimizer.zero_grad()\n",
      "        outputs = model(inputs)\n",
      "        loss = targets - outputs.log_softmax(outputs.argmax(dim=1))\n",
      "        loss.backward()\n",
      "        optimizer.step()\n",
      "\n",
      "    print(\"Epoch {}: Loss = {}\".format(epoch+1, loss.item()))\n",
      "```\n",
      "\n",
      "在这个示例中,我们定义了一个名为 `TextRNN` 的模型类,它包含一个线性层 `fc1` 和一个线性层 `fc2`,用于将输入序列映射到相应的类别。我们还定义了一个数据加载器,用于从文件中读取数据。\n",
      "\n",
      "在模型初始化函数中,我们定义了 `fc1` 和 `fc2` 的输入和输出,并将它们转换为 PyTorch 中的线性层。\n",
      "\n",
      "在 `forward` 方法中,我们使用 `fc1` 和 `fc2` 的输出作为输入,将它们传递给下一个线性层 `fc1` 和 `fc2`,最终得到输出序列。\n",
      "\n",
      "在训练期间,我们使用 Adam 优化器对损失函数进行迭代。在每个 epoch 中,我们计算模型的损失,并更新模型参数,直到达到预设的停止条件。\n",
      "\n",
      "这个简单的示例展示了如何使用 PyTorch 编写一个基本的文本序列生成模型。你可以根据你的具体需求进行修改和扩展。\n"
     ]
    }
   ],
   "source": [
    "parameters = [\n",
    "            (\"晚上睡不着怎么办\", False, 2048, 1, True, 4),\n",
    "            (\"介绍一下清华大学\", False, 64, 1, False, 1),\n",
    "            (\"推荐几个电影\", False, 2048, 1, True, 4),\n",
    "            (\"怎么用Pytorch写一个模型？\", False, 2048, 1, True, 4),\n",
    "            #   (True, 2048, 1),\n",
    "            #   (True, 64, 1),\n",
    "            #   (True, 2048, 4)\n",
    "              ]\n",
    "for sentence, do_sample, max_length, num_beams, use_bucket, bucket_num in parameters:\n",
    "    set_random_seed(42)\n",
    "    inputs = tokenizer(sentence)\n",
    "    inputs = Tensor([inputs])\n",
    "    outputs = model.generate(\n",
    "        inputs,\n",
    "        do_sample=do_sample,\n",
    "        max_length=max_length,\n",
    "        num_beams=num_beams,\n",
    "        jit=True,\n",
    "        use_bucket=use_bucket,\n",
    "        bucket_num=bucket_num\n",
    "    )\n",
    "\n",
    "    outputs = outputs.asnumpy().tolist()[0]\n",
    "    out_sentence = tokenizer.decode(outputs, skip_special_tokens=True)\n",
    "    print(out_sentence)"
   ]
  },
  {
   "cell_type": "code",
   "execution_count": 53,
   "id": "15a223f8-3aeb-4df1-84ff-ac29d6924f0d",
   "metadata": {},
   "outputs": [
    {
     "name": "stdout",
     "output_type": "stream",
     "text": [
      "Looking in indexes: https://pypi.tuna.tsinghua.edu.cn/simple\n",
      "Collecting uvicorn\n",
      "  Using cached https://pypi.tuna.tsinghua.edu.cn/packages/79/96/b0882a1c3f7ef3dd86879e041212ae5b62b4bd352320889231cc735a8e8f/uvicorn-0.23.2-py3-none-any.whl (59 kB)\n",
      "Collecting click>=7.0 (from uvicorn)\n",
      "  Using cached https://pypi.tuna.tsinghua.edu.cn/packages/00/2e/d53fa4befbf2cfa713304affc7ca780ce4fc1fd8710527771b58311a3229/click-8.1.7-py3-none-any.whl (97 kB)\n",
      "Collecting h11>=0.8 (from uvicorn)\n",
      "  Using cached https://pypi.tuna.tsinghua.edu.cn/packages/95/04/ff642e65ad6b90db43e668d70ffb6736436c7ce41fcc549f4e9472234127/h11-0.14.0-py3-none-any.whl (58 kB)\n",
      "Requirement already satisfied: typing-extensions>=4.0 in /home/daiyuxin/anaconda3/envs/kewei-mindspore/lib/python3.9/site-packages (from uvicorn) (4.7.1)\n",
      "Installing collected packages: h11, click, uvicorn\n",
      "Successfully installed click-8.1.7 h11-0.14.0 uvicorn-0.23.2\n",
      "Note: you may need to restart the kernel to use updated packages.\n"
     ]
    }
   ],
   "source": [
    "%pip install uvicorn"
   ]
  },
  {
   "cell_type": "code",
   "execution_count": 39,
   "id": "59b15541-6a42-4707-97e7-8ea55dd0fe20",
   "metadata": {},
   "outputs": [],
   "source": [
    "from fastapi import FastAPI, Request"
   ]
  },
  {
   "cell_type": "code",
   "execution_count": null,
   "id": "e1fc2c62-d29f-42ff-86d5-faf8a8f29e3a",
   "metadata": {},
   "outputs": [],
   "source": [
    "app = FastAPI()\n",
    "\n",
    "\n",
    "@app.post(\"/\")"
   ]
  },
  {
   "cell_type": "code",
   "execution_count": 50,
   "id": "c352be0f-e238-44a1-a401-97257a6557ac",
   "metadata": {},
   "outputs": [],
   "source": [
    "import json, datetime"
   ]
  },
  {
   "cell_type": "code",
   "execution_count": 51,
   "id": "0ed0d7f9-6d96-490e-9c0d-eab195dbc958",
   "metadata": {},
   "outputs": [],
   "source": [
    "async def create_item(request: Request):\n",
    "    global model, tokenizer\n",
    "    json_post_raw = await request.json()\n",
    "    json_post = json.dumps(json_post_raw)\n",
    "    json_post_list = json.loads(json_post)\n",
    "    prompt = json_post_list.get('prompt')\n",
    "    history = json_post_list.get('history')\n",
    "    max_length = json_post_list.get('max_length')\n",
    "    top_p = json_post_list.get('top_p')\n",
    "    temperature = json_post_list.get('temperature')\n",
    "    set_random_seed(42)\n",
    "    inputs = tokenizer(prompt)\n",
    "    inputs = Tensor([inputs])\n",
    "    outputs = model.generate(\n",
    "        inputs,\n",
    "        do_sample=do_sample,\n",
    "        max_length=max_length,\n",
    "        num_beams=num_beams,\n",
    "        jit=True,\n",
    "        use_bucket=use_bucket,\n",
    "        bucket_num=bucket_num\n",
    "    )\n",
    "\n",
    "    outputs = outputs.asnumpy().tolist()[0]\n",
    "    out_sentence = tokenizer.decode(outputs, skip_special_tokens=True)\n",
    "    \n",
    "    now = datetime.datetime.now()\n",
    "    time = now.strftime(\"%Y-%m-%d %H:%M:%S\")\n",
    "    answer = {\n",
    "        \"response\": out_sentence,\n",
    "        \"history\": history,\n",
    "        \"status\": 200,\n",
    "        \"time\": time\n",
    "    }\n",
    "    log = \"[\" + time + \"] \" + '\", prompt:\"' + prompt + '\", response:\"' + repr(out_sentence) + '\"'\n",
    "    print(log)\n",
    "    return answer"
   ]
  },
  {
   "cell_type": "code",
   "execution_count": 52,
   "id": "d2a3aaa4-7638-477c-8d38-72b9975a21be",
   "metadata": {},
   "outputs": [
    {
     "name": "stdout",
     "output_type": "stream",
     "text": [
      "[2023-09-19 23:00:59] \", prompt:\"你好\", response:\"'你好 你好👋!我是人工智能助手 ChatGLM-6B,很高兴见到你,欢迎问我任何问题。'\"\n",
      "{'response': '你好 你好👋!我是人工智能助手 ChatGLM-6B,很高兴见到你,欢迎问我任何问题。', 'history': [], 'status': 200, 'time': '2023-09-19 23:00:59'}\n"
     ]
    }
   ],
   "source": [
    "# # 调用函数示例\n",
    "# request_data = {\n",
    "#     \"prompt\": \"你好\",\n",
    "#     \"history\": [],\n",
    "#     \"max_length\": 1024,\n",
    "#     \"top_p\": 0.7,\n",
    "#     \"temperature\": 0.95\n",
    "# }\n",
    "\n",
    "# response = await create_item(request_data)\n",
    "# print(response)"
   ]
  },
  {
   "cell_type": "code",
   "execution_count": null,
   "id": "25f3380a-5a52-4145-b70c-eff9269ab7d3",
   "metadata": {},
   "outputs": [],
   "source": [
    "if __name__ == '__main__':\n",
    "    uvicorn.run(app, host='0.0.0.0', port=8000, workers=1)"
   ]
  }
 ],
 "metadata": {
  "kernelspec": {
   "display_name": "Python 3 (ipykernel)",
   "language": "python",
   "name": "python3"
  },
  "language_info": {
   "codemirror_mode": {
    "name": "ipython",
    "version": 3
   },
   "file_extension": ".py",
   "mimetype": "text/x-python",
   "name": "python",
   "nbconvert_exporter": "python",
   "pygments_lexer": "ipython3",
   "version": "3.9.18"
  }
 },
 "nbformat": 4,
 "nbformat_minor": 5
}
