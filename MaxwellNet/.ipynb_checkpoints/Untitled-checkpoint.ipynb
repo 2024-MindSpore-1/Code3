{
 "cells": [
  {
   "cell_type": "code",
   "execution_count": 4,
   "id": "94bc376d",
   "metadata": {},
   "outputs": [
    {
     "name": "stdout",
     "output_type": "stream",
     "text": [
      "^C\n",
      "[WARNING] DEVICE(324,7fe35fe0e2c0,python):2023-05-16-13:34:59.100.831 [mindspore/ccsrc/runtime/pynative/op_executor.cc:141] operator()] Process 324 receive KeyboardInterrupt signal.\n"
     ]
    }
   ],
   "source": [
    "!python train_maxwellnet.py --directory examples/spheric_te\n"
   ]
  },
  {
   "cell_type": "code",
   "execution_count": 6,
   "id": "3c3d6a0b-6792-4a12-a2fd-2a97b4c27c7c",
   "metadata": {},
   "outputs": [
    {
     "name": "stdout",
     "output_type": "stream",
     "text": [
      "examples/spheric_te/model/250000_te_fourth.pt\n",
      "Traceback (most recent call last):\n",
      "  File \"solution_maxwellnet.py\", line 169, in <module>\n",
      "    main(args)\n",
      "  File \"solution_maxwellnet.py\", line 45, in main\n",
      "    ms.load_checkpoint(model_directory, model)\n",
      "  File \"/root/miniconda3/lib/python3.8/site-packages/mindspore/train/serialization.py\", line 507, in load_checkpoint\n",
      "    ckpt_file_name = _check_ckpt_file_name(ckpt_file_name)\n",
      "  File \"/root/miniconda3/lib/python3.8/site-packages/mindspore/train/serialization.py\", line 570, in _check_ckpt_file_name\n",
      "    raise ValueError(\"For 'load_checkpoint', the checkpoint file should end with '.ckpt', please \"\n",
      "ValueError: For 'load_checkpoint', the checkpoint file should end with '.ckpt', please input the correct 'ckpt_file_name'.\n"
     ]
    }
   ],
   "source": [
    "!python solution_maxwellnet.py --directory examples/spheric_te --model_filename 250000_te_fourth.ckpt --sample_filename sample.npz"
   ]
  },
  {
   "cell_type": "code",
   "execution_count": 44,
   "id": "0db5ab9e",
   "metadata": {},
   "outputs": [
    {
     "name": "stdout",
     "output_type": "stream",
     "text": [
      "[[[[0. 1. 2.]\n",
      "   [3. 4. 5.]\n",
      "   [6. 7. 8.]]]]\n",
      "[[[[0. 0. 0. 0. 0.]\n",
      "   [0. 0. 1. 2. 0.]\n",
      "   [0. 3. 4. 5. 0.]\n",
      "   [0. 6. 7. 8. 0.]\n",
      "   [0. 0. 0. 0. 0.]]]]\n"
     ]
    }
   ],
   "source": [
    "import numpy as np\n",
    "import mindspore\n",
    "from mindspore import Tensor\n",
    "from mindspore.nn import ReplicationPad2d\n",
    "# pad2d = ReplicationPad2d(2)\n",
    "input = Tensor(np.arange(0, 9).reshape(1, 1, 3, 3), mindspore.float32)\n",
    "print(input)\n",
    "\n",
    "p = mindspore.nn.Pad(paddings=((0, 0), (0, 0), (1, 1), (1, 1)), mode='CONSTANT')\n",
    "print(p(input))\n",
    "# out = pad2d(input)\n",
    "# print(out)\n",
    "\n",
    "\n",
    "\n",
    "\n",
    "\n",
    "\n",
    "\n",
    "# pad2d = ReplicationPad2d((1, 1, 2, 0))\n",
    "# out = pad2d(input)\n",
    "# print(out)\n",
    "\n",
    "\n",
    "\n",
    "\n",
    "\n"
   ]
  },
  {
   "cell_type": "code",
   "execution_count": 1,
   "id": "9b569d6f",
   "metadata": {},
   "outputs": [
    {
     "data": {
      "text/plain": [
       "'1.10.0'"
      ]
     },
     "execution_count": 1,
     "metadata": {},
     "output_type": "execute_result"
    }
   ],
   "source": [
    "import mindspore\n",
    "mindspore.__version__"
   ]
  },
  {
   "cell_type": "code",
   "execution_count": 3,
   "id": "b5161855",
   "metadata": {},
   "outputs": [
    {
     "name": "stdout",
     "output_type": "stream",
     "text": [
      "Looking in indexes: https://repo.huaweicloud.com/repository/pypi/simple\n",
      "Collecting tensorboardX\n",
      "  Downloading https://repo.huaweicloud.com/repository/pypi/packages/60/9f/d532d37f10ac7af136d4c2ba71e1fe7af0f3cc0cc076dfc05826171e9737/tensorboardX-2.6-py2.py3-none-any.whl (114 kB)\n",
      "\u001b[K     |████████████████████████████████| 114 kB 3.7 MB/s eta 0:00:01\n",
      "\u001b[?25hRequirement already satisfied: protobuf<4,>=3.8.0 in /root/miniconda3/lib/python3.8/site-packages (from tensorboardX) (3.18.0)\n",
      "Requirement already satisfied: packaging in /root/miniconda3/lib/python3.8/site-packages (from tensorboardX) (21.0)\n",
      "Requirement already satisfied: numpy in /root/miniconda3/lib/python3.8/site-packages (from tensorboardX) (1.21.2)\n",
      "Requirement already satisfied: pyparsing>=2.0.2 in /root/miniconda3/lib/python3.8/site-packages (from packaging->tensorboardX) (2.4.7)\n",
      "Installing collected packages: tensorboardX\n",
      "Successfully installed tensorboardX-2.6\n",
      "\u001b[33mWARNING: Running pip as the 'root' user can result in broken permissions and conflicting behaviour with the system package manager. It is recommended to use a virtual environment instead: https://pip.pypa.io/warnings/venv\u001b[0m\n"
     ]
    }
   ],
   "source": [
    "!pip install tensorboardX"
   ]
  },
  {
   "cell_type": "code",
   "execution_count": 14,
   "id": "0b8c62fd",
   "metadata": {},
   "outputs": [
    {
     "data": {
      "text/plain": [
       "array(1.53, dtype=float32)"
      ]
     },
     "execution_count": 14,
     "metadata": {},
     "output_type": "execute_result"
    }
   ],
   "source": [
    "import numpy as np\n",
    "np.load(\"examples/spheric_tm/train.npz\")['n']"
   ]
  },
  {
   "cell_type": "code",
   "execution_count": 2,
   "id": "857ca5e3",
   "metadata": {},
   "outputs": [],
   "source": [
    "import numpy as np\n",
    "import mindspore as ms\n",
    "import mindspore.ops as ops\n",
    "\n"
   ]
  },
  {
   "cell_type": "code",
   "execution_count": 3,
   "id": "8b33ea0d",
   "metadata": {},
   "outputs": [],
   "source": [
    "ms.set_context(device_target=\"GPU\")\n"
   ]
  },
  {
   "cell_type": "code",
   "execution_count": null,
   "id": "aee94d87",
   "metadata": {},
   "outputs": [],
   "source": [
    "x = ms.Tensor(np.ones([1,3,3,4]).astype(np.float32))\n",
    "y = ms.Tensor(np.ones([1,3,3,4]).astype(np.float32))\n",
    "print(ops.add(x, y))"
   ]
  },
  {
   "cell_type": "code",
   "execution_count": 3,
   "id": "e839f620",
   "metadata": {},
   "outputs": [
    {
     "name": "stdout",
     "output_type": "stream",
     "text": [
      "Found existing installation: mindspore-gpu 1.8.1\n",
      "Uninstalling mindspore-gpu-1.8.1:\n",
      "  Successfully uninstalled mindspore-gpu-1.8.1\n"
     ]
    }
   ],
   "source": [
    "!pip uninstall mindspore-gpu -y"
   ]
  },
  {
   "cell_type": "code",
   "execution_count": 1,
   "id": "cb9ca137",
   "metadata": {},
   "outputs": [
    {
     "name": "stdout",
     "output_type": "stream",
     "text": [
      "Looking in indexes: https://pypi.tuna.tsinghua.edu.cn/simple\n",
      "Collecting mindspore-gpu\n",
      "  Downloading https://pypi.tuna.tsinghua.edu.cn/packages/ef/19/138c234c8fceabf335d1b3083e43a9c680cc9fa64dfbf096845abb8d30ec/mindspore_gpu-1.10.0-cp38-cp38-manylinux1_x86_64.whl (345.1 MB)\n",
      "\u001b[K     |████████████████████████████████| 345.1 MB 10 kB/s  eta 0:00:01    |█▍                              | 15.0 MB 2.0 MB/s eta 0:02:45     |██                              | 21.9 MB 2.1 MB/s eta 0:02:33     |██▌                             | 26.6 MB 2.7 MB/s eta 0:01:58     |███▊                            | 40.4 MB 2.3 MB/s eta 0:02:13     |██████▎                         | 67.4 MB 2.0 MB/s eta 0:02:22     |█████████                       | 96.2 MB 1.6 MB/s eta 0:02:34     |███████████▌                    | 124.5 MB 3.9 MB/s eta 0:00:56     |████████████████▋               | 179.1 MB 2.6 MB/s eta 0:01:05     |████████████████▋               | 179.5 MB 2.6 MB/s eta 0:01:05     |█████████████████████████       | 270.0 MB 1.3 MB/s eta 0:01:00     |██████████████████████████▌     | 285.5 MB 2.5 MB/s eta 0:00:24     |███████████████████████████████▋| 340.4 MB 1.7 MB/s eta 0:00:03\n",
      "\u001b[?25hCollecting scipy>=1.5.2\n",
      "  Downloading https://pypi.tuna.tsinghua.edu.cn/packages/69/f0/fb07a9548e48b687b8bf2fa81d71aba9cfc548d365046ca1c791e24db99d/scipy-1.10.1-cp38-cp38-manylinux_2_17_x86_64.manylinux2014_x86_64.whl (34.5 MB)\n",
      "\u001b[K     |████████████████████████████████| 34.5 MB 154 kB/s eta 0:00:01    |████████▊                       | 9.5 MB 2.6 MB/s eta 0:00:10     |██████████████████▍             | 19.9 MB 2.2 MB/s eta 0:00:07     |████████████████████▊           | 22.3 MB 2.0 MB/s eta 0:00:07\n",
      "\u001b[?25hCollecting psutil>=5.6.1\n",
      "  Downloading https://pypi.tuna.tsinghua.edu.cn/packages/af/4d/389441079ecef400e2551a3933224885a7bde6b8a4810091d628cdd75afe/psutil-5.9.5-cp36-abi3-manylinux_2_12_x86_64.manylinux2010_x86_64.manylinux_2_17_x86_64.manylinux2014_x86_64.whl (282 kB)\n",
      "\u001b[K     |████████████████████████████████| 282 kB 2.9 MB/s eta 0:00:01\n",
      "\u001b[?25hRequirement already satisfied: numpy>=1.17.0 in /root/miniconda3/lib/python3.8/site-packages (from mindspore-gpu) (1.21.2)\n",
      "Requirement already satisfied: packaging>=20.0 in /root/miniconda3/lib/python3.8/site-packages (from mindspore-gpu) (21.0)\n",
      "Collecting asttokens>=2.0.4\n",
      "  Downloading https://pypi.tuna.tsinghua.edu.cn/packages/f3/e1/64679d9d0759db5b182222c81ff322c2fe2c31e156a59afd6e9208c960e5/asttokens-2.2.1-py2.py3-none-any.whl (26 kB)\n",
      "Collecting astunparse>=1.6.3\n",
      "  Downloading https://pypi.tuna.tsinghua.edu.cn/packages/2b/03/13dde6512ad7b4557eb792fbcf0c653af6076b81e5941d36ec61f7ce6028/astunparse-1.6.3-py2.py3-none-any.whl (12 kB)\n",
      "Requirement already satisfied: protobuf>=3.13.0 in /root/miniconda3/lib/python3.8/site-packages (from mindspore-gpu) (3.18.0)\n",
      "Requirement already satisfied: pillow>=6.2.0 in /root/miniconda3/lib/python3.8/site-packages (from mindspore-gpu) (8.3.2)\n",
      "Requirement already satisfied: six in /root/miniconda3/lib/python3.8/site-packages (from asttokens>=2.0.4->mindspore-gpu) (1.16.0)\n",
      "Requirement already satisfied: wheel<1.0,>=0.23.0 in /root/miniconda3/lib/python3.8/site-packages (from astunparse>=1.6.3->mindspore-gpu) (0.36.2)\n",
      "Requirement already satisfied: pyparsing>=2.0.2 in /root/miniconda3/lib/python3.8/site-packages (from packaging>=20.0->mindspore-gpu) (2.4.7)\n",
      "Installing collected packages: scipy, psutil, astunparse, asttokens, mindspore-gpu\n",
      "Successfully installed asttokens-2.2.1 astunparse-1.6.3 mindspore-gpu-1.10.0 psutil-5.9.5 scipy-1.10.1\n",
      "\u001b[33mWARNING: Running pip as the 'root' user can result in broken permissions and conflicting behaviour with the system package manager. It is recommended to use a virtual environment instead: https://pip.pypa.io/warnings/venv\u001b[0m\n"
     ]
    }
   ],
   "source": [
    "!pip install mindspore-gpu -i https://pypi.tuna.tsinghua.edu.cn/simple"
   ]
  },
  {
   "cell_type": "code",
   "execution_count": 33,
   "id": "61cf3f25",
   "metadata": {},
   "outputs": [],
   "source": [
    "from mindspore._c_expression import GradOperation_\n"
   ]
  },
  {
   "cell_type": "code",
   "execution_count": 34,
   "id": "4174d4e8-d228-47de-816e-9f2c5f40c0ae",
   "metadata": {},
   "outputs": [
    {
     "data": {
      "text/plain": [
       "['__class__',\n",
       " '__delattr__',\n",
       " '__dir__',\n",
       " '__doc__',\n",
       " '__eq__',\n",
       " '__format__',\n",
       " '__ge__',\n",
       " '__getattribute__',\n",
       " '__gt__',\n",
       " '__hash__',\n",
       " '__init__',\n",
       " '__init_subclass__',\n",
       " '__le__',\n",
       " '__lt__',\n",
       " '__module__',\n",
       " '__ne__',\n",
       " '__new__',\n",
       " '__reduce__',\n",
       " '__reduce_ex__',\n",
       " '__repr__',\n",
       " '__setattr__',\n",
       " '__sizeof__',\n",
       " '__str__',\n",
       " '__subclasshook__',\n",
       " 'set_signatures']"
      ]
     },
     "execution_count": 34,
     "metadata": {},
     "output_type": "execute_result"
    }
   ],
   "source": [
    "dir(GradOperation_)"
   ]
  },
  {
   "cell_type": "code",
   "execution_count": 41,
   "id": "52b776be-15a1-4a71-af14-6e0085f40869",
   "metadata": {},
   "outputs": [
    {
     "ename": "TypeError",
     "evalue": "descriptor '__format__' of 'object' object needs an argument",
     "output_type": "error",
     "traceback": [
      "\u001b[0;31m---------------------------------------------------------------------------\u001b[0m",
      "\u001b[0;31mTypeError\u001b[0m                                 Traceback (most recent call last)",
      "\u001b[0;32m/tmp/ipykernel_678/3599314790.py\u001b[0m in \u001b[0;36m<module>\u001b[0;34m\u001b[0m\n\u001b[0;32m----> 1\u001b[0;31m \u001b[0mGradOperation_\u001b[0m\u001b[0;34m.\u001b[0m\u001b[0m__format__\u001b[0m\u001b[0;34m(\u001b[0m\u001b[0;34m)\u001b[0m\u001b[0;34m\u001b[0m\u001b[0;34m\u001b[0m\u001b[0m\n\u001b[0m",
      "\u001b[0;31mTypeError\u001b[0m: descriptor '__format__' of 'object' object needs an argument"
     ]
    }
   ],
   "source": [
    "GradOperation_.__format__"
   ]
  },
  {
   "cell_type": "code",
   "execution_count": 2,
   "id": "33f3b079-6110-4667-a06c-1c24c9f99c64",
   "metadata": {},
   "outputs": [],
   "source": [
    "import mindspore.numpy as np\n"
   ]
  },
  {
   "cell_type": "code",
   "execution_count": 8,
   "id": "83701bb5-7c30-4106-bdca-1d8e71415e32",
   "metadata": {},
   "outputs": [
    {
     "data": {
      "text/plain": [
       "Tensor(shape=[], dtype=Float32, value= 0)"
      ]
     },
     "execution_count": 8,
     "metadata": {},
     "output_type": "execute_result"
    }
   ],
   "source": [
    "np.min(a)"
   ]
  },
  {
   "cell_type": "code",
   "execution_count": 9,
   "id": "71f9f0b6-adb7-46e4-bfb5-b447e62af0b6",
   "metadata": {},
   "outputs": [],
   "source": [
    "a = mindspore.Tensor(np.zeros([1, 2, 3]), mindspore.float32)"
   ]
  },
  {
   "cell_type": "code",
   "execution_count": 10,
   "id": "3805f8d9-d348-46ae-85ca-66ff27ce1bb7",
   "metadata": {},
   "outputs": [
    {
     "data": {
      "text/plain": [
       "Tensor(shape=[1, 2, 3], dtype=Float32, value=\n",
       "[[[ 0.00000000e+00,  0.00000000e+00,  0.00000000e+00],\n",
       "  [ 0.00000000e+00,  0.00000000e+00,  0.00000000e+00]]])"
      ]
     },
     "execution_count": 10,
     "metadata": {},
     "output_type": "execute_result"
    }
   ],
   "source": [
    "a"
   ]
  },
  {
   "cell_type": "code",
   "execution_count": null,
   "id": "87bcbf06-f140-46a2-a154-55e5ec7239fc",
   "metadata": {},
   "outputs": [],
   "source": []
  }
 ],
 "metadata": {
  "kernelspec": {
   "display_name": "Python 3 (ipykernel)",
   "language": "python",
   "name": "python3"
  },
  "language_info": {
   "codemirror_mode": {
    "name": "ipython",
    "version": 3
   },
   "file_extension": ".py",
   "mimetype": "text/x-python",
   "name": "python",
   "nbconvert_exporter": "python",
   "pygments_lexer": "ipython3",
   "version": "3.8.10"
  }
 },
 "nbformat": 4,
 "nbformat_minor": 5
}
