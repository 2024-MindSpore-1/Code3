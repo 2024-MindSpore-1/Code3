{
 "cells": [
  {
   "cell_type": "code",
   "execution_count": 1,
   "id": "02c8b770",
   "metadata": {},
   "outputs": [
    {
     "name": "stdout",
     "output_type": "stream",
     "text": [
      "Requirement already satisfied: pyarmor in /opt/conda/lib/python3.7/site-packages (8.3.8)\n",
      "Requirement already satisfied: pyarmor.cli.core~=4.3.5 in /opt/conda/lib/python3.7/site-packages (from pyarmor) (4.3.5)\n"
     ]
    },
    {
     "name": "stderr",
     "output_type": "stream",
     "text": [
      "WARNING: Running pip as root will break packages and permissions. You should install packages reliably by using venv: https://pip.pypa.io/warnings/venv\n"
     ]
    }
   ],
   "source": [
    "import subprocess  \n",
    "import sys  \n",
    "#镜像没有pyarmor，需要提前安装\n",
    "def install_package(package_name):  \n",
    "    subprocess.check_call([sys.executable, \"-m\", \"pip\", \"install\",\"--upgrade\", package_name])  \n",
    "install_package(\"pyarmor\")"
   ]
  },
  {
   "cell_type": "code",
   "execution_count": 2,
   "id": "625ddce7",
   "metadata": {},
   "outputs": [
    {
     "name": "stdout",
     "output_type": "stream",
     "text": [
      "/dataset\n",
      "/dataset/cifar-10-python\n",
      "/dataset/test\n",
      "/dataset/train\n",
      "/dataset/cifar-10-python\n",
      "/dataset/cifar-10-python/cifar-10-batches-py\n",
      "/dataset/cifar-10-python/cifar-10-batches-py\n",
      "/dataset/cifar-10-python/cifar-10-batches-py/data_batch_4\n",
      "/dataset/cifar-10-python/cifar-10-batches-py/readme.html\n",
      "/dataset/cifar-10-python/cifar-10-batches-py/data_batch_3\n",
      "/dataset/cifar-10-python/cifar-10-batches-py/data_batch_2\n",
      "/dataset/cifar-10-python/cifar-10-batches-py/data_batch_1\n",
      "/dataset/cifar-10-python/cifar-10-batches-py/test_batch\n",
      "/dataset/cifar-10-python/cifar-10-batches-py/batches.meta\n",
      "/dataset/cifar-10-python/cifar-10-batches-py/data_batch_5\n",
      "/dataset/test\n",
      "/dataset/test/test_batch.bin\n",
      "/dataset/train\n",
      "/dataset/train/data_batch_2.bin\n",
      "/dataset/train/data_batch_4.bin\n",
      "/dataset/train/data_batch_3.bin\n",
      "/dataset/train/batches.meta.txt\n",
      "/dataset/train/data_batch_5.bin\n",
      "/dataset/train/data_batch_1.bin\n"
     ]
    }
   ],
   "source": [
    "import os  \n",
    "import shutil  \n",
    "def print_directory_contents(path):  \n",
    "    \"\"\"遍历指定目录并打印出所有文件和子目录\"\"\"  \n",
    "    for root, dirs, files in os.walk(path):  \n",
    "        # 打印当前目录  \n",
    "        print(root)  \n",
    "        # 打印子目录  \n",
    "        for directory in dirs:  \n",
    "            print(os.path.join(root, directory))  \n",
    "        # 打印文件  \n",
    "        for file in files:  \n",
    "            print(os.path.join(root, file))\n",
    "print_directory_contents('/dataset') "
   ]
  },
  {
   "cell_type": "code",
   "execution_count": 3,
   "id": "40d48364",
   "metadata": {},
   "outputs": [
    {
     "name": "stdout",
     "output_type": "stream",
     "text": [
      "An error occurred while moving the file: [Errno 30] Read-only file system: '/dataset/cifar-10-python/cifar-10-batches-py/test_batch'\n",
      "An error occurred while moving the file: [Errno 30] Read-only file system: '/dataset/cifar-10-python/cifar-10-batches-py/data_batch_1'\n",
      "An error occurred while moving the file: [Errno 30] Read-only file system: '/dataset/cifar-10-python/cifar-10-batches-py/data_batch_2'\n",
      "An error occurred while moving the file: [Errno 30] Read-only file system: '/dataset/cifar-10-python/cifar-10-batches-py/data_batch_3'\n",
      "An error occurred while moving the file: [Errno 30] Read-only file system: '/dataset/cifar-10-python/cifar-10-batches-py/data_batch_4'\n",
      "An error occurred while moving the file: [Errno 30] Read-only file system: '/dataset/cifar-10-python/cifar-10-batches-py/data_batch_5'\n",
      "An error occurred while moving the file: [Errno 30] Read-only file system: '/dataset/cifar-10-python/cifar-10-batches-py/batches.meta'\n",
      "/dataset\n",
      "/dataset/cifar-10-python\n",
      "/dataset/test\n",
      "/dataset/train\n",
      "/dataset/cifar-10-python\n",
      "/dataset/cifar-10-python/cifar-10-batches-py\n",
      "/dataset/cifar-10-python/cifar-10-batches-py\n",
      "/dataset/cifar-10-python/cifar-10-batches-py/data_batch_4\n",
      "/dataset/cifar-10-python/cifar-10-batches-py/readme.html\n",
      "/dataset/cifar-10-python/cifar-10-batches-py/data_batch_3\n",
      "/dataset/cifar-10-python/cifar-10-batches-py/data_batch_2\n",
      "/dataset/cifar-10-python/cifar-10-batches-py/data_batch_1\n",
      "/dataset/cifar-10-python/cifar-10-batches-py/test_batch\n",
      "/dataset/cifar-10-python/cifar-10-batches-py/batches.meta\n",
      "/dataset/cifar-10-python/cifar-10-batches-py/data_batch_5\n",
      "/dataset/test\n",
      "/dataset/test/test_batch.bin\n",
      "/dataset/train\n",
      "/dataset/train/data_batch_2.bin\n",
      "/dataset/train/data_batch_4.bin\n",
      "/dataset/train/data_batch_3.bin\n",
      "/dataset/train/batches.meta.txt\n",
      "/dataset/train/data_batch_5.bin\n",
      "/dataset/train/data_batch_1.bin\n"
     ]
    }
   ],
   "source": [
    "#准备char-10数据\n",
    "def move_file(source_path, target_path):  \n",
    "    \"\"\"  \n",
    "    Moves a file from the source path to the target path.  \n",
    "  \n",
    "    Parameters:  \n",
    "    source_path (str): The path to the source file.  \n",
    "    target_path (str): The path to the target location, including the filename.  \n",
    "  \n",
    "    Returns:  \n",
    "    None  \n",
    "    \"\"\"  \n",
    "    try:  \n",
    "        shutil.move(source_path, target_path)  \n",
    "        print(f\"File moved successfully from {source_path} to {target_path}.\")  \n",
    "    except Exception as e:  \n",
    "        print(f\"An error occurred while moving the file: {e}\")\n",
    "if not os.path.exists(\"/dataset/train\"):  \n",
    "    os.makedirs(\"/dataset/train\")\n",
    "if not os.path.exists(\"/dataset/test\"):  \n",
    "    os.makedirs(\"/dataset/test\")\n",
    "move_file(\"/dataset/cifar-10-python/cifar-10-batches-py/test_batch\",\"/dataset/test/test_batch.bin\")\n",
    "move_file(\"/dataset/cifar-10-python/cifar-10-batches-py/data_batch_1\",\"/dataset/train/data_batch_1.bin\")\n",
    "move_file(\"/dataset/cifar-10-python/cifar-10-batches-py/data_batch_2\",\"/dataset/train/data_batch_2.bin\")\n",
    "move_file(\"/dataset/cifar-10-python/cifar-10-batches-py/data_batch_3\",\"/dataset/train/data_batch_3.bin\")\n",
    "move_file(\"/dataset/cifar-10-python/cifar-10-batches-py/data_batch_4\",\"/dataset/train/data_batch_4.bin\")\n",
    "move_file(\"/dataset/cifar-10-python/cifar-10-batches-py/data_batch_5\",\"/dataset/train/data_batch_5.bin\")\n",
    "move_file(\"/dataset/cifar-10-python/cifar-10-batches-py/batches.meta\",\"/dataset/train/batches.meta.txt\")\n",
    "print_directory_contents('/dataset')"
   ]
  },
  {
   "cell_type": "code",
   "execution_count": 4,
   "id": "1d5f0e0b",
   "metadata": {},
   "outputs": [
    {
     "name": "stdout",
     "output_type": "stream",
     "text": [
      "{'enable_modelarts': 'Whether training on modelarts, default: False', 'data_url': 'Dataset url for obs', 'checkpoint_url': 'The location of checkpoint for obs', 'data_path': 'Dataset path for local', 'output_path': 'Training output path for local', 'load_path': 'The location of checkpoint for obs', 'device_target': 'Target device type, available: [Ascend, GPU, CPU]', 'enable_profiling': 'Whether enable profiling while training, default: False', 'num_classes': 'Class for dataset', 'batch_size': 'Batch size for training and evaluation', 'epoch_size': 'Total training epochs.', 'checkpoint_path': 'The location of the checkpoint file.', 'checkpoint_file_path': 'The location of the checkpoint file.', 'save_graphs': 'Whether save graphs during training, default: False.', 'save_graphs_path': 'Path to save graphs.'}\n",
      "{'all_reduce_fusion_config': [85, 160],\n",
      " 'batch_size': 32,\n",
      " 'boost_mode': 'O0',\n",
      " 'cache_session_id': '',\n",
      " 'checkpoint_file_path': '',\n",
      " 'checkpoint_path': './checkpoint/',\n",
      " 'checkpoint_url': '',\n",
      " 'ckpt_file': '',\n",
      " 'class_num': 512,\n",
      " 'config_path': '/code/src/model_utils/../../config/resnet50_cifar10_config.yaml',\n",
      " 'conv_init': 'XavierUniform',\n",
      " 'data_path': '/dataset/train',\n",
      " 'data_url': '',\n",
      " 'dataset': 'cifar10',\n",
      " 'dense_init': 'TruncatedNormal',\n",
      " 'device_id': 0,\n",
      " 'device_num': 1,\n",
      " 'device_target': 'CPU',\n",
      " 'enable_cache': False,\n",
      " 'enable_modelarts': False,\n",
      " 'enable_profiling': False,\n",
      " 'epoch_size': 1,\n",
      " 'eval_dataset_path': '',\n",
      " 'eval_image_size': 224,\n",
      " 'eval_interval': 1,\n",
      " 'eval_start_epoch': 40,\n",
      " 'file_format': 'MINDIR',\n",
      " 'file_name': 'resnet50',\n",
      " 'filter_weight': False,\n",
      " 'has_trained_epoch': 0,\n",
      " 'has_trained_step': 0,\n",
      " 'height': 224,\n",
      " 'infer_label': '',\n",
      " 'keep_checkpoint_max': 10,\n",
      " 'label_path': '',\n",
      " 'lars_coefficient': 0.001,\n",
      " 'lars_epsilon': 0.0,\n",
      " 'load_path': '',\n",
      " 'loss_scale': 1024,\n",
      " 'lr_decay_mode': 'poly',\n",
      " 'lr_end': 1e-05,\n",
      " 'lr_init': 0.01,\n",
      " 'lr_max': 0.1,\n",
      " 'mode_name': 'GRAPH',\n",
      " 'momentum': 0.9,\n",
      " 'net_name': 'resnet50',\n",
      " 'network_dataset': 'resnet50_cifar10',\n",
      " 'optimizer': 'Momentum',\n",
      " 'output_path': '/output',\n",
      " 'parameter_server': False,\n",
      " 'pre_trained': '',\n",
      " 'pretrain_epoch_size': 0,\n",
      " 'result_path': '',\n",
      " 'run_distribute': False,\n",
      " 'run_eval': False,\n",
      " 'save_best_ckpt': True,\n",
      " 'save_checkpoint': True,\n",
      " 'save_checkpoint_epochs': 1,\n",
      " 'save_graphs': False,\n",
      " 'save_graphs_path': './graphs',\n",
      " 'train_image_size': 224,\n",
      " 'train_url': '',\n",
      " 'warmup_epochs': 5,\n",
      " 'weight_decay': 0.0001,\n",
      " 'width': 224}\n",
      "Please check the above information for the configurations\n",
      "source传递源码参数准备完毕！\n"
     ]
    }
   ],
   "source": [
    "import function_attributes as fa\n",
    "import src_bak.resnet as resnet\n",
    "#需要在ResNet和ResidualBlock的construct函数前添加装饰器，装饰器函数传递的参数需要先在sources.py内声明\n",
    "fa.creat_source_file([resnet.ResNet,resnet.ResidualBlock],\"/code/src_bak/sources.py\")\n",
    "print(\"source传递源码参数准备完毕！\")"
   ]
  },
  {
   "cell_type": "code",
   "execution_count": 5,
   "id": "fa942634",
   "metadata": {},
   "outputs": [
    {
     "name": "stderr",
     "output_type": "stream",
     "text": [
      "INFO     Python 3.7.10\n",
      "INFO     Pyarmor 8.3.8 (trial), 000000, non-profits\n",
      "INFO     Platform linux.x86_64\n",
      "INFO     search inputs ...\n",
      "INFO     find package at /code/src_bak\n",
      "INFO     find 1 top resources\n",
      "INFO     start to generate runtime files\n",
      "INFO     target platforms {'linux.x86_64'}\n",
      "INFO     write /code/dist/src_bak/pyarmor_runtime_000000/pyarmor_runtime.so\n",
      "INFO     patch runtime file\n",
      "INFO     generate runtime files OK\n",
      "INFO     start to obfuscate scripts\n",
      "INFO     process resource \"src_bak\"\n",
      "INFO     obfuscating file dataset.py\n",
      "INFO     write /code/dist/src_bak/dataset.py\n",
      "INFO     obfuscating file resnet_gpu_benchmark.py\n",
      "INFO     write /code/dist/src_bak/resnet_gpu_benchmark.py\n",
      "INFO     obfuscating file CrossEntropySmooth.py\n",
      "INFO     write /code/dist/src_bak/CrossEntropySmooth.py\n",
      "INFO     obfuscating file data_split.py\n",
      "INFO     write /code/dist/src_bak/data_split.py\n",
      "INFO     obfuscating file lr_generator.py\n",
      "INFO     write /code/dist/src_bak/lr_generator.py\n",
      "INFO     obfuscating file metric.py\n",
      "INFO     write /code/dist/src_bak/metric.py\n",
      "INFO     obfuscating file eval_callback.py\n",
      "INFO     write /code/dist/src_bak/eval_callback.py\n",
      "INFO     obfuscating file sources.py\n",
      "INFO     write /code/dist/src_bak/sources.py\n",
      "INFO     obfuscating file momentum.py\n",
      "INFO     write /code/dist/src_bak/momentum.py\n",
      "INFO     obfuscating file resnet.py\n",
      "INFO     write /code/dist/src_bak/resnet.py\n",
      "INFO     obfuscating file dataset_infer.py\n",
      "INFO     write /code/dist/src_bak/dataset_infer.py\n",
      "INFO     obfuscating file local_adapter.py\n",
      "INFO     write /code/dist/src_bak/model_utils/local_adapter.py\n",
      "INFO     obfuscating file moxing_adapter.py\n",
      "INFO     write /code/dist/src_bak/model_utils/moxing_adapter.py\n",
      "INFO     obfuscating file config.py\n",
      "INFO     write /code/dist/src_bak/model_utils/config.py\n",
      "INFO     obfuscating file device_adapter.py\n",
      "INFO     write /code/dist/src_bak/model_utils/device_adapter.py\n",
      "INFO     obfuscate scripts OK\n"
     ]
    }
   ],
   "source": [
    "def pyarmor_src(dist=\"/code/dist\",src=\"/code/src_bak\"):\n",
    "    # 使用pyarmor生成-O dist3 -r -i src/mypkg  \n",
    "    os.system(f'pyarmor gen -O {dist} -i {src}')\n",
    "#加密src_bak内的代码，加密后会输出到\"/code/dist\"\n",
    "pyarmor_src()"
   ]
  },
  {
   "cell_type": "code",
   "execution_count": 6,
   "id": "e079860d",
   "metadata": {},
   "outputs": [],
   "source": [
    "import shutil  \n",
    "def delete_directory_contents(path):  \n",
    "    \"\"\"  \n",
    "    删除指定路径下的所有文件和子文件夹。  \n",
    "  \n",
    "    参数:  \n",
    "        path (str): 需要删除文件和文件夹的路径。  \n",
    "    \"\"\"  \n",
    "    # 确保路径是目录  \n",
    "    if not os.path.isdir(path):  \n",
    "        raise ValueError(f\"'{path}' 不是一个目录\")  \n",
    "  \n",
    "    # 遍历目录及其子目录，删除所有文件和文件夹  \n",
    "    for root, dirs, files in os.walk(path, topdown=False):  \n",
    "        for name in files:  \n",
    "            os.remove(os.path.join(root, name))  \n",
    "        for name in dirs:  \n",
    "            shutil.rmtree(os.path.join(root, name))  # 使用 shutil.rmtree 删除非空文件夹  \n",
    "  \n",
    "    # 删除指定目录  \n",
    "    os.rmdir(path)\n",
    "#删除已有的\"/code/src\"文件夹，方便方便后续复制加密后代码\n",
    "delete_directory_contents(\"/code/src\")"
   ]
  },
  {
   "cell_type": "code",
   "execution_count": 7,
   "id": "b1600770",
   "metadata": {},
   "outputs": [
    {
     "name": "stdout",
     "output_type": "stream",
     "text": [
      "Folder copied successfully from /code/dist/src_bak to /code/src\n",
      "初始化完毕！\n"
     ]
    }
   ],
   "source": [
    "\n",
    "#复制文件夹\n",
    "def copy_folder(src_path, dst_path):  \n",
    "    \"\"\"  \n",
    "    Copies a folder from src_path to dst_path.   \n",
    "    src_path: The source path of the folder to be copied.  \n",
    "    dst_path: The destination path where the folder should be copied to.  \n",
    "    \"\"\"  \n",
    "    try:  \n",
    "        shutil.copytree(src_path, dst_path)  \n",
    "        print(f\"Folder copied successfully from {src_path} to {dst_path}\")  \n",
    "    except Exception as e:  \n",
    "        print(f\"An error occurred while copying the folder: {e}\")\n",
    "#将加密后的文件复制到\"/code/src\"\n",
    "copy_folder(\"/code/dist/src_bak\",\"/code/src\")\n",
    "#删除加密后的文件夹\n",
    "delete_directory_contents(\"/code/dist\")\n",
    "print(\"加密完毕！\")"
   ]
  },
  {
   "cell_type": "code",
   "execution_count": null,
   "id": "11db4686",
   "metadata": {},
   "outputs": [
    {
     "name": "stderr",
     "output_type": "stream",
     "text": [
      "[WARNING] ME(96:140432973195072,MainProcess):2023-09-22-09:40:31.352.942 [mindspore/train/model.py:1084] For LossCallBack callback, {'step_end'} methods may not be supported in later version, Use methods prefixed with 'on_train' or 'on_eval' instead when using customized callbacks.\n"
     ]
    },
    {
     "name": "stdout",
     "output_type": "stream",
     "text": [
      "epoch: 1 step: 1, loss is 6.3070354\n"
     ]
    }
   ],
   "source": [
    "import train\n",
    "print(\"开始训练\")\n",
    "train.train_net()"
   ]
  }
 ],
 "metadata": {
  "kernelspec": {
   "display_name": "Python 3 (ipykernel)",
   "language": "python",
   "name": "python3"
  },
  "language_info": {
   "codemirror_mode": {
    "name": "ipython",
    "version": 3
   },
   "file_extension": ".py",
   "mimetype": "text/x-python",
   "name": "python",
   "nbconvert_exporter": "python",
   "pygments_lexer": "ipython3",
   "version": "3.7.10"
  }
 },
 "nbformat": 4,
 "nbformat_minor": 5
}
