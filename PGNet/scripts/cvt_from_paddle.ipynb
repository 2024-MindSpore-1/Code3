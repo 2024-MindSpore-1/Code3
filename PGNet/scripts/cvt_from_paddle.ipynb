{
 "cells": [
  {
   "cell_type": "code",
   "execution_count": 1,
   "metadata": {},
   "outputs": [],
   "source": [
    "import os\n",
    "if not os.path.exists('../pretrain/params'):\n",
    "    os.mkdir('../pretrain/params')"
   ]
  },
  {
   "cell_type": "markdown",
   "metadata": {},
   "source": [
    "# paddle -> numpy"
   ]
  },
  {
   "cell_type": "code",
   "execution_count": 1,
   "metadata": {},
   "outputs": [],
   "source": [
    "import paddle\n",
    "import pickle"
   ]
  },
  {
   "cell_type": "markdown",
   "metadata": {},
   "source": [
    "paddle预训练权重：https://paddleocr.bj.bcebos.com/dygraph_v2.0/pgnet/train_step1.tar\n",
    "\n",
    "paddle公开最好权重：https://paddleocr.bj.bcebos.com/dygraph_v2.0/pgnet/en_server_pgnetA.tar\n",
    "\n",
    "下载并存放于 pretrain/paddle/"
   ]
  },
  {
   "cell_type": "code",
   "execution_count": 2,
   "metadata": {},
   "outputs": [],
   "source": [
    "weight = paddle.load('../pretrain/paddle/pgnet_train_step1.pdparams', return_numpy=True)\n",
    "# weight = paddle.load('../pretrain/paddle/pgnet_best.pdparams', return_numpy=True)"
   ]
  },
  {
   "cell_type": "code",
   "execution_count": 3,
   "metadata": {},
   "outputs": [
    {
     "data": {
      "text/plain": [
       "(64,)"
      ]
     },
     "execution_count": 3,
     "metadata": {},
     "output_type": "execute_result"
    }
   ],
   "source": [
    "weight['backbone.bb_0_0.conv0._batch_norm._mean'].shape"
   ]
  },
  {
   "cell_type": "markdown",
   "metadata": {},
   "source": [
    "查看权重名称和形状，结果存放于pretrain/params"
   ]
  },
  {
   "cell_type": "code",
   "execution_count": 4,
   "metadata": {},
   "outputs": [],
   "source": [
    "with open('../pretrain/params/pgnet_train_step1.txt', 'w') as fw:\n",
    "# with open('../pretrain/params/pgnet_best.txt', 'w') as fw:\n",
    "    for key, value in weight.items():\n",
    "        fw.write(f'{key:50}\\t {value.shape}\\n')"
   ]
  },
  {
   "cell_type": "markdown",
   "metadata": {},
   "source": [
    "保存numpy类型的权重，结果存放于pretrain/numpy"
   ]
  },
  {
   "cell_type": "code",
   "execution_count": null,
   "metadata": {},
   "outputs": [],
   "source": [
    "pickle.dump(weight, open('../pretrain/numpy/pgnet_train_step1_param.pkl', 'wb'))\n",
    "# pickle.dump(weight, open('../pretrain/numpy/pgnet_best_param.pkl', 'wb'))"
   ]
  },
  {
   "cell_type": "markdown",
   "metadata": {},
   "source": [
    "如果虚拟环境中同时包含paddle和mindspore，则可以直接运行下面的单元格，否则请切换虚拟环境。"
   ]
  },
  {
   "cell_type": "markdown",
   "metadata": {},
   "source": [
    "# numpy -> mindspore"
   ]
  },
  {
   "cell_type": "code",
   "execution_count": null,
   "metadata": {},
   "outputs": [],
   "source": [
    "import mindspore as ms\n",
    "import pickle"
   ]
  },
  {
   "cell_type": "markdown",
   "metadata": {},
   "source": [
    "加载numpy类型权重，以及用于对比的MindSpore权重。"
   ]
  },
  {
   "cell_type": "code",
   "execution_count": 4,
   "metadata": {},
   "outputs": [],
   "source": [
    "paddle_param = pickle.load(open('../pretrain/numpy/pgnet_train_step1_param.pkl', 'rb'))\n",
    "# paddle_param = pickle.load(open('../pretrain/numpy/pgnet_best_param.pkl', 'rb'))\n",
    "mind_param = ms.load_checkpoint('../work_dir/pgnet/e0.ckpt')\n",
    "# mind_param = ms.load_checkpoint('../work_dir/pgnet/best.ckpt')"
   ]
  },
  {
   "cell_type": "markdown",
   "metadata": {},
   "source": [
    "查看MindSpore权重名称和形状，结果存放于pretrain/params"
   ]
  },
  {
   "cell_type": "code",
   "execution_count": null,
   "metadata": {},
   "outputs": [],
   "source": [
    "with open('../pretrain/params/ms_pgnet.txt', 'w') as fw:\n",
    "    for key, value in mind_param.items():\n",
    "        fw.write(f'{key:50}\\t {value.shape}\\n')"
   ]
  },
  {
   "cell_type": "code",
   "execution_count": 9,
   "metadata": {},
   "outputs": [],
   "source": [
    "new_param = []\n",
    "for key, param in paddle_param.items():\n",
    "    key_split = key.split('.')\n",
    "    key_split = [i.strip('_') for i in key_split]\n",
    "\n",
    "    if key_split[-2] == 'batch_norm' or key_split[-2] == 'bn':\n",
    "        key_split[-2] = 'norm'\n",
    "        key_split[-1] = key_split[-1].replace('weight'  , 'gamma')\n",
    "        key_split[-1] = key_split[-1].replace('bias'    , 'beta')\n",
    "        key_split[-1] = key_split[-1].replace('mean'    , 'moving_mean')\n",
    "        key_split[-1] = key_split[-1].replace('variance', 'moving_variance')\n",
    "\n",
    "    if key_split[0] == 'backbone' and key_split[1].startswith('bb_'):\n",
    "        _, block, layer = key_split[1].split('_')\n",
    "        key_split[1] = f'layer{int(block)+1}'\n",
    "        key_split.insert(2, layer)\n",
    "\n",
    "    new_key = '.'.join(key_split)\n",
    "    # 对照\n",
    "    mind_p = mind_param[new_key]\n",
    "    assert mind_p.shape == param.shape\n",
    "    new_param.append({'name': new_key, 'data': ms.Tensor(param, dtype=mind_p.dtype)})"
   ]
  },
  {
   "cell_type": "markdown",
   "metadata": {},
   "source": [
    "转换后的MindSpore类型权重存放于pretrain/pgnet"
   ]
  },
  {
   "cell_type": "code",
   "execution_count": 10,
   "metadata": {},
   "outputs": [],
   "source": [
    "ms.save_checkpoint(new_param, '../pretrain/pgnet/pgnet_train_step1.ckpt')\n",
    "# ms.save_checkpoint(new_param, '../pretrain/pgnet/pgnet_best.ckpt')"
   ]
  },
  {
   "cell_type": "code",
   "execution_count": null,
   "metadata": {},
   "outputs": [],
   "source": []
  }
 ],
 "metadata": {
  "kernelspec": {
   "display_name": "mind1",
   "language": "python",
   "name": "python3"
  },
  "language_info": {
   "codemirror_mode": {
    "name": "ipython",
    "version": 3
   },
   "file_extension": ".py",
   "mimetype": "text/x-python",
   "name": "python",
   "nbconvert_exporter": "python",
   "pygments_lexer": "ipython3",
   "version": "3.9.17"
  },
  "orig_nbformat": 4
 },
 "nbformat": 4,
 "nbformat_minor": 2
}
