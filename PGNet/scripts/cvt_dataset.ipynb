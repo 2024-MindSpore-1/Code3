{
 "cells": [
  {
   "cell_type": "code",
   "execution_count": 1,
   "metadata": {},
   "outputs": [],
   "source": [
    "import os\n",
    "import scipy.io as io\n",
    "import json\n",
    "import numpy as np"
   ]
  },
  {
   "cell_type": "markdown",
   "metadata": {},
   "source": [
    "### 把totaltext的mat格式的标注转换成common格式"
   ]
  },
  {
   "cell_type": "code",
   "execution_count": 22,
   "metadata": {},
   "outputs": [],
   "source": [
    "valid_set = set(range(10)) | set('qazwsxedcrfvtgbyhnujmikolp')\n",
    "\n",
    "def read_mat(path: str) -> tuple:\n",
    "    assert os.path.exists(path), f'\"{path}\" not exist'\n",
    "    raw_data = io.loadmat(path)\n",
    "    polys, texts = [], []\n",
    "    num_valid, num_ignore, num_invalid, num_special = 0, 0, 0, 0\n",
    "    for i, info in enumerate(raw_data['polygt']):\n",
    "        num_points = info[1].shape[1]\n",
    "        if num_points > 1:\n",
    "            polys.append(np.concatenate([info[1], info[3]]).T.tolist())\n",
    "            if info[5] == '#':\n",
    "                texts.append('###')\n",
    "                num_ignore += 1\n",
    "            else:\n",
    "                texts.append(''.join(info[4].tolist()))\n",
    "                num_valid += 1\n",
    "                if len(set(texts[-1].lower()) - valid_set) > 0:\n",
    "                    num_special += 1\n",
    "        else:\n",
    "            num_invalid += 1\n",
    "    return polys, texts, num_valid, num_ignore, num_invalid, num_special"
   ]
  },
  {
   "cell_type": "code",
   "execution_count": 23,
   "metadata": {},
   "outputs": [
    {
     "name": "stdout",
     "output_type": "stream",
     "text": [
      "total valid: 2204, total ignore: 342, total invalid(#): 2, total special(-,'.): 216\n"
     ]
    },
    {
     "name": "stderr",
     "output_type": "stream",
     "text": [
      "/tmp/ipykernel_59588/3711311004.py:12: DeprecationWarning: The truth value of an empty array is ambiguous. Returning False, but in future this will result in an error. Use `array.size > 0` to check that an array is not empty.\n",
      "  if info[5] == '#':\n"
     ]
    }
   ],
   "source": [
    "ann_root = '../data/total_text/test/Groundtruth/'\n",
    "with open('test_mat.txt', 'w') as fw:\n",
    "    total_valid, total_ignore, total_invalid, total_special = 0, 0, 0, 0\n",
    "    for filename in os.listdir(ann_root):\n",
    "        polys, texts, num_valid_gt, num_ignore, num_invalid, num_special = read_mat(os.path.join(ann_root, filename))\n",
    "        total_valid += num_valid_gt\n",
    "        total_ignore += num_ignore\n",
    "        total_invalid += num_invalid\n",
    "        total_special += num_special\n",
    "        basename = os.path.basename(filename)[8:-4]\n",
    "        data = []\n",
    "        for poly, text in zip(polys, texts):\n",
    "            data.append(dict(transcription=text, points=poly))\n",
    "        fw.write(f'rgb/{basename}.jpg\\t' + json.dumps(data, ensure_ascii=False) + '\\n')\n",
    "    print(f\"total valid: {total_valid}, total ignore: {total_ignore}, total invalid(#): {total_invalid}, total special(-,'.): {total_special}\")"
   ]
  },
  {
   "cell_type": "code",
   "execution_count": null,
   "metadata": {},
   "outputs": [],
   "source": [
    "raw_data = io.loadmat('../data/total_text/test/Groundtruth/poly_gt_img897.mat')\n",
    "raw_data"
   ]
  },
  {
   "cell_type": "markdown",
   "metadata": {},
   "source": [
    "### 从icdar2019中提取仅包含英文和数字的图片\n",
    "注意：icdar标注并非严格按照totaltext格式上下两两配对"
   ]
  },
  {
   "cell_type": "code",
   "execution_count": 2,
   "metadata": {},
   "outputs": [],
   "source": [
    "raw_labels = json.load(open('../data/ICDAR2019/train/train_labels.json'))"
   ]
  },
  {
   "cell_type": "code",
   "execution_count": 3,
   "metadata": {},
   "outputs": [
    {
     "data": {
      "text/plain": [
       "[{'transcription': 'EST',\n",
       "  'points': [[1004, 689], [1095, 748], [1094, 774], [1007, 721]],\n",
       "  'language': 'Latin',\n",
       "  'illegibility': False},\n",
       " {'transcription': '1972',\n",
       "  'points': [[1102, 755], [1191, 811], [1193, 837], [1107, 784]],\n",
       "  'language': 'Latin',\n",
       "  'illegibility': False},\n",
       " {'transcription': 'PoPeYes',\n",
       "  'points': [[574, 521],\n",
       "   [768, 585],\n",
       "   [1050, 798],\n",
       "   [1200, 894],\n",
       "   [1386, 1018],\n",
       "   [1542, 1118],\n",
       "   [1599, 1295],\n",
       "   [1432, 1196],\n",
       "   [1300, 1114],\n",
       "   [1112, 1015],\n",
       "   [896, 901],\n",
       "   [760, 842]],\n",
       "  'language': 'Latin',\n",
       "  'illegibility': False},\n",
       " {'transcription': '',\n",
       "  'points': [[1606, 1308], [1627, 1321], [1630, 1344], [1607, 1333]],\n",
       "  'language': 'Latin',\n",
       "  'illegibility': False},\n",
       " {'transcription': 'BISCUITS',\n",
       "  'points': [[1269, 1147],\n",
       "   [1378, 1204],\n",
       "   [1513, 1290],\n",
       "   [1605, 1354],\n",
       "   [1624, 1449],\n",
       "   [1515, 1382],\n",
       "   [1403, 1311],\n",
       "   [1289, 1237]],\n",
       "  'language': 'Latin',\n",
       "  'illegibility': False},\n",
       " {'transcription': '###',\n",
       "  'points': [[1195, 1109], [1258, 1142], [1263, 1225], [1191, 1184]],\n",
       "  'language': 'Latin',\n",
       "  'illegibility': True},\n",
       " {'transcription': 'CHICKEN',\n",
       "  'points': [[708, 906],\n",
       "   [830, 940],\n",
       "   [1018, 1013],\n",
       "   [1143, 1075],\n",
       "   [1166, 1173],\n",
       "   [1014, 1123],\n",
       "   [845, 1061],\n",
       "   [715, 1022]],\n",
       "  'language': 'Latin',\n",
       "  'illegibility': False}]"
      ]
     },
     "execution_count": 3,
     "metadata": {},
     "output_type": "execute_result"
    }
   ],
   "source": [
    "raw_labels['gt_0']"
   ]
  },
  {
   "cell_type": "code",
   "execution_count": 5,
   "metadata": {},
   "outputs": [
    {
     "data": {
      "text/plain": [
       "(5603, 2846)"
      ]
     },
     "execution_count": 5,
     "metadata": {},
     "output_type": "execute_result"
    }
   ],
   "source": [
    "subset_en = {}\n",
    "for img_name, anns in raw_labels.items():\n",
    "    for ann in anns:\n",
    "        if ann['language'] != 'Latin':\n",
    "            break\n",
    "    else:\n",
    "        subset_en[img_name] = anns\n",
    "len(raw_labels), len(subset_en)"
   ]
  },
  {
   "cell_type": "code",
   "execution_count": 8,
   "metadata": {},
   "outputs": [],
   "source": [
    "with open('det_gt_en.txt', 'w') as fw:\n",
    "    for img_name in sorted(list(subset_en.keys()), key=lambda x: int(x[3:])):\n",
    "        fw.write(img_name + \".jpg\\t\" + json.dumps(subset_en[img_name], ensure_ascii=False) + \"\\n\")"
   ]
  },
  {
   "cell_type": "code",
   "execution_count": null,
   "metadata": {},
   "outputs": [],
   "source": []
  }
 ],
 "metadata": {
  "kernelspec": {
   "display_name": "ms",
   "language": "python",
   "name": "python3"
  },
  "language_info": {
   "codemirror_mode": {
    "name": "ipython",
    "version": 3
   },
   "file_extension": ".py",
   "mimetype": "text/x-python",
   "name": "python",
   "nbconvert_exporter": "python",
   "pygments_lexer": "ipython3",
   "version": "3.9.16"
  },
  "orig_nbformat": 4
 },
 "nbformat": 4,
 "nbformat_minor": 2
}
