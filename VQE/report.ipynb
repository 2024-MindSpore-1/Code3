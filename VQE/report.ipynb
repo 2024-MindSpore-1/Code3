{
 "cells": [
  {
   "cell_type": "markdown",
   "metadata": {},
   "source": [
    "# Package imports"
   ]
  },
  {
   "cell_type": "code",
   "execution_count": 1,
   "metadata": {},
   "outputs": [
    {
     "name": "stderr",
     "output_type": "stream",
     "text": [
      "/home/ubuntu/anaconda3/lib/python3.7/site-packages/mindquantum/__init__.py:25: UserWarning: MindSpore not installed, you may not be able to use hybrid quantum classical neural network.\n",
      "  from . import algorithm, config, core, engine, framework, io, simulator, utils\n"
     ]
    }
   ],
   "source": [
    "from mindquantum.algorithm.nisq import HardwareEfficientAnsatz\n",
    "import mindquantum as mq\n",
    "from mindquantum.core import QubitOperator, X, Y, Z, RX, RY, RZ, Z, H, Circuit\n",
    "from mindquantum.algorithm.nisq import get_qubit_hamiltonian\n",
    "from algorithm import *\n",
    "import numpy as np\n",
    "import scipy as sp\n",
    "import matplotlib.pyplot as plt\n",
    "import scipy.optimize as sopt"
   ]
  },
  {
   "cell_type": "code",
   "execution_count": 2,
   "metadata": {},
   "outputs": [
    {
     "name": "stdout",
     "output_type": "stream",
     "text": [
      "0.8.0\n",
      "1.20.1\n",
      "1.6.1\n"
     ]
    }
   ],
   "source": [
    "import mindquantum \n",
    "print(mindquantum.__version__)\n",
    "import numpy \n",
    "print(numpy.__version__)\n",
    "import scipy \n",
    "print(scipy.__version__)"
   ]
  },
  {
   "cell_type": "markdown",
   "metadata": {},
   "source": [
    "# Example model"
   ]
  },
  {
   "cell_type": "code",
   "execution_count": 3,
   "metadata": {},
   "outputs": [],
   "source": [
    "def ham_heis(N, J):\n",
    "    ham = QubitOperator()\n",
    "    for i in range(1, N):\n",
    "        ham += QubitOperator(\"X{} X{}\".format(i - 1, i), J)\n",
    "        ham += QubitOperator(\"Y{} Y{}\".format(i - 1, i), J)\n",
    "        ham += QubitOperator(\"Z{} Z{}\".format(i - 1, i), J)\n",
    "    ham.compress()\n",
    "    return ham"
   ]
  },
  {
   "cell_type": "code",
   "execution_count": 4,
   "metadata": {
    "tags": []
   },
   "outputs": [
    {
     "name": "stdout",
     "output_type": "stream",
     "text": [
      "[-6.464101615137762, -3.8284271247461943, -3.8284271247461934, -3.828427124746189, -1.0000000000000018, -0.999999999999998, -0.9999999999999978, 0.4641016151377546, 1.8284271247461898, 1.82842712474619, 1.8284271247461918, 2.999999999999997, 3.0, 3.0, 3.000000000000003, 3.0000000000000036]\n"
     ]
    },
    {
     "data": {
      "image/png": "[encoded data removed]",
      "text/plain": [
       "<Figure size 432x288 with 1 Axes>"
      ]
     },
     "metadata": {
      "needs_background": "light"
     },
     "output_type": "display_data"
    }
   ],
   "source": [
    "n_qubits = 4\n",
    "ham = ham_heis(n_qubits, 1.0)\n",
    "ham = ham.matrix().A\n",
    "eigenenergies = sorted(np.linalg.eigvals(ham).real)\n",
    "plt.plot(eigenenergies, '.-')\n",
    "plt.ylabel('energies')\n",
    "plt.xlabel('eigenstates')\n",
    "print(eigenenergies)\n",
    "plt.show()"
   ]
  },
  {
   "cell_type": "markdown",
   "metadata": {
    "tags": []
   },
   "source": [
    "# Folded spectrum method"
   ]
  },
  {
   "cell_type": "code",
   "execution_count": 5,
   "metadata": {},
   "outputs": [],
   "source": [
    "n_qubits = 4\n",
    "circ_depth = 3\n",
    "single_rot_gate_seq = [RY, RZ]\n",
    "ansatz = HardwareEfficientAnsatz(n_qubits, single_rot_gate_seq, depth=circ_depth).circuit"
   ]
  },
  {
   "cell_type": "code",
   "execution_count": 6,
   "metadata": {},
   "outputs": [],
   "source": [
    "results = []\n",
    "for approx_energy in [-6.5, -4, -1, 0.5]:\n",
    "    folded = Folded_spectrum(n_qubits=n_qubits, ansatz=ansatz, ham=ham_heis(n_qubits, 1.0), target_energy=approx_energy)    \n",
    "    np.random.seed(100)\n",
    "    init_params = np.random.rand(len(ansatz.params_name)) - 0.5\n",
    "    res = sopt.minimize(folded.evaluate,\n",
    "                        init_params,\n",
    "                        method='l-bfgs-b',\n",
    "                        jac=True,\n",
    "                        options={'disp': False})\n",
    "    results.append(folded.energy(res.x))\n",
    "    "
   ]
  },
  {
   "cell_type": "code",
   "execution_count": 7,
   "metadata": {},
   "outputs": [
    {
     "data": {
      "text/plain": [
       "[-6.464101609059055,\n",
       " -3.8284270983054305,\n",
       " -1.0000000775643823,\n",
       " 0.464101615290512]"
      ]
     },
     "execution_count": 7,
     "metadata": {},
     "output_type": "execute_result"
    }
   ],
   "source": [
    "results"
   ]
  },
  {
   "cell_type": "code",
   "execution_count": 8,
   "metadata": {},
   "outputs": [
    {
     "data": {
      "text/plain": [
       "Text(0, 0.5, 'energy')"
      ]
     },
     "execution_count": 8,
     "metadata": {},
     "output_type": "execute_result"
    },
    {
     "data": {
      "image/png": "[encoded data removed]",
      "text/plain": [
       "<Figure size 432x288 with 1 Axes>"
      ]
     },
     "metadata": {
      "needs_background": "light"
     },
     "output_type": "display_data"
    }
   ],
   "source": [
    "theo_result = [-6.464101615137754, -3.8284271247461867, -1, 0.4641016151377547]\n",
    "plt.bar(range(len(results)), results, label='approximate', tick_label=['E0', 'E1', 'E2', 'E3'])\n",
    "plt.bar(range(len(results)), theo_result, ec='red', ls='--', lw=2, fill='', label='theory')\n",
    "plt.legend()\n",
    "plt.ylabel('energy')\n"
   ]
  },
  {
   "cell_type": "markdown",
   "metadata": {
    "tags": []
   },
   "source": [
    "# Orthogonally constrained VQE"
   ]
  },
  {
   "cell_type": "code",
   "execution_count": 9,
   "metadata": {},
   "outputs": [],
   "source": [
    "n_qubits = 4\n",
    "circ_depth = 3\n",
    "single_rot_gate_seq = [RY, RZ]\n",
    "ansatz = HardwareEfficientAnsatz(n_qubits, single_rot_gate_seq, depth=circ_depth).circuit"
   ]
  },
  {
   "cell_type": "code",
   "execution_count": 10,
   "metadata": {},
   "outputs": [
    {
     "name": "stdout",
     "output_type": "stream",
     "text": [
      "[-6.46410159616838, -3.8284266495180868, -3.8284269700235116, -3.8283900642682296, -1.000000301665709, -0.9999997512941728, -1.0000008871983281, 0.4641005064058035]\n"
     ]
    }
   ],
   "source": [
    "orthogonally = Orthogonally_constrained(n_qubits, ham_heis(n_qubits, 1.0))\n",
    "orthogonally.initial_next_eigenstate(ansatz, 1, [])  \n",
    "results = []\n",
    "for i in range(8):\n",
    "    np.random.seed(100)\n",
    "    init_params = np.random.rand(len(ansatz.params_name)) - 0.5\n",
    "    res = sopt.minimize(orthogonally.evaluate,\n",
    "                        init_params,\n",
    "                        method='l-bfgs-b',\n",
    "                        jac=True,\n",
    "                        options={'disp': False})\n",
    "    results.append(orthogonally.energy(res.x))\n",
    "    ansatz = HardwareEfficientAnsatz(n_qubits, single_rot_gate_seq, depth=circ_depth).circuit    \n",
    "    orthogonally.initial_next_eigenstate(ansatz, 10, res.x)\n",
    "print(results)\n"
   ]
  },
  {
   "cell_type": "code",
   "execution_count": 11,
   "metadata": {},
   "outputs": [
    {
     "data": {
      "text/plain": [
       "Text(0, 0.5, 'energy')"
      ]
     },
     "execution_count": 11,
     "metadata": {},
     "output_type": "execute_result"
    },
    {
     "data": {
      "image/png": "[encoded data removed]",
      "text/plain": [
       "<Figure size 432x288 with 1 Axes>"
      ]
     },
     "metadata": {
      "needs_background": "light"
     },
     "output_type": "display_data"
    }
   ],
   "source": [
    "theo_result = [-6.464101615137754, -3.8284271247461867, -3.8284271247461867, -3.8284271247461867, -1, -1, -1, 0.4641016151377547]\n",
    "plt.bar(range(len(results)), results, label='approximate', tick_label=['E0', 'E1', 'E1', 'E1', 'E2', 'E2', 'E2', 'E3'])\n",
    "plt.bar(range(len(results)), theo_result, ec='red', ls='--', lw=2, fill='', label='theory')\n",
    "plt.legend()\n",
    "plt.ylabel('energy')\n"
   ]
  },
  {
   "cell_type": "markdown",
   "metadata": {
    "tags": []
   },
   "source": [
    "# Subspace expansion"
   ]
  },
  {
   "cell_type": "code",
   "execution_count": 12,
   "metadata": {},
   "outputs": [],
   "source": [
    "n_qubits = 4\n",
    "circ_depth = 3\n",
    "single_rot_gate_seq = [RY, RZ]\n",
    "ansatz = HardwareEfficientAnsatz(n_qubits, single_rot_gate_seq, depth=circ_depth).circuit"
   ]
  },
  {
   "cell_type": "code",
   "execution_count": 13,
   "metadata": {},
   "outputs": [],
   "source": [
    "excitation_ops = []\n",
    "excitation_ops.append(QubitOperator(f''))\n",
    "for i in range(n_qubits):\n",
    "    excitation_ops.append(QubitOperator(f'X{i}'))\n",
    "    excitation_ops.append(QubitOperator(f'Y{i}'))\n",
    "    excitation_ops.append(QubitOperator(f'Z{i}'))\n"
   ]
  },
  {
   "cell_type": "code",
   "execution_count": 14,
   "metadata": {},
   "outputs": [],
   "source": [
    "subspace_expansion = Subspace_expansion(n_qubits, ansatz, ham_heis(n_qubits, 1.0), excitation_ops)"
   ]
  },
  {
   "cell_type": "code",
   "execution_count": 15,
   "metadata": {},
   "outputs": [
    {
     "name": "stdout",
     "output_type": "stream",
     "text": [
      "-6.46410159616838\n"
     ]
    }
   ],
   "source": [
    "np.random.seed(100)\n",
    "init_params = np.random.rand(len(ansatz.params_name)) - 0.5\n",
    "res = sopt.minimize(subspace_expansion.evaluate,\n",
    "                    init_params,\n",
    "                    method='l-bfgs-b',\n",
    "                    jac=True,\n",
    "                    options={'disp': False})\n",
    "print(subspace_expansion.energy(res.x))"
   ]
  },
  {
   "cell_type": "code",
   "execution_count": 16,
   "metadata": {},
   "outputs": [],
   "source": [
    "ham_sub, s_mat = subspace_expansion.evaluate_matrics(res.x)\n",
    "energies = sorted(sp.linalg.eigvals(ham_sub, s_mat))"
   ]
  },
  {
   "cell_type": "code",
   "execution_count": 17,
   "metadata": {},
   "outputs": [
    {
     "data": {
      "text/plain": [
       "[(-6.46410160596924+0j),\n",
       " (-3.8284271218145225+0j),\n",
       " (-3.8284271180536567+0j),\n",
       " (-3.8284271057772092+0j),\n",
       " (-1.000000003711563+0j),\n",
       " (-1.0000000015929928+0j),\n",
       " (-0.9999999973739893+0j),\n",
       " (0.6732998149724728+0j),\n",
       " (1.2526976439098478+0j),\n",
       " (1.8284271144846993+0j),\n",
       " (1.8284271276704949+0j),\n",
       " (1.8284271307607851+0j),\n",
       " (2.8893834003522274+0j)]"
      ]
     },
     "execution_count": 17,
     "metadata": {},
     "output_type": "execute_result"
    }
   ],
   "source": [
    "energies"
   ]
  },
  {
   "cell_type": "code",
   "execution_count": 18,
   "metadata": {},
   "outputs": [],
   "source": [
    "results = energies[:7]"
   ]
  },
  {
   "cell_type": "code",
   "execution_count": 19,
   "metadata": {},
   "outputs": [
    {
     "name": "stderr",
     "output_type": "stream",
     "text": [
      "/home/ubuntu/anaconda3/lib/python3.7/site-packages/numpy/core/_asarray.py:102: ComplexWarning: Casting complex values to real discards the imaginary part\n",
      "  return array(a, dtype, copy=False, order=order)\n"
     ]
    },
    {
     "data": {
      "text/plain": [
       "Text(0, 0.5, 'energy')"
      ]
     },
     "execution_count": 19,
     "metadata": {},
     "output_type": "execute_result"
    },
    {
     "data": {
      "image/png": "[encoded data removed]",
      "text/plain": [
       "<Figure size 432x288 with 1 Axes>"
      ]
     },
     "metadata": {
      "needs_background": "light"
     },
     "output_type": "display_data"
    }
   ],
   "source": [
    "theo_result = [-6.464101615137754, -3.8284271247461867, -3.8284271247461867, -3.8284271247461867, -1, -1, -1, 0.4641016151377547]\n",
    "tick_label = ['E0', 'E1', 'E1', 'E1', 'E2', 'E2', 'E2', 'E3']\n",
    "plt.bar(range(len(results)), results, label='approximate', tick_label=tick_label[:len(results)])\n",
    "plt.bar(range(len(results)), theo_result[:len(results)], ec='red', ls='--', lw=2, fill='', label='theory')\n",
    "plt.legend()\n",
    "plt.ylabel('energy')"
   ]
  },
  {
   "cell_type": "markdown",
   "metadata": {
    "tags": []
   },
   "source": [
    "# Subspace-search VQE"
   ]
  },
  {
   "cell_type": "code",
   "execution_count": 20,
   "metadata": {},
   "outputs": [],
   "source": [
    "n_qubits = 4\n",
    "circ_depth = 15\n",
    "single_rot_gate_seq = [RY, RZ]\n",
    "ansatz = HardwareEfficientAnsatz(n_qubits, single_rot_gate_seq, depth=circ_depth).circuit"
   ]
  },
  {
   "cell_type": "code",
   "execution_count": 21,
   "metadata": {},
   "outputs": [],
   "source": [
    "init_circs = []\n",
    "k = 8\n",
    "for i in range(k):\n",
    "    bin_str = f'{{:0{n_qubits}b}}'.format(i)\n",
    "    tmp_circ = Circuit()\n",
    "    for j, c in enumerate(bin_str):\n",
    "        if c == '1':\n",
    "            tmp_circ += X.on(j)\n",
    "    init_circs.append(tmp_circ)"
   ]
  },
  {
   "cell_type": "code",
   "execution_count": 22,
   "metadata": {},
   "outputs": [
    {
     "name": "stdout",
     "output_type": "stream",
     "text": [
      "[-6.464101011184937, -3.8284264450878784, -3.8284246587013566, -3.8283970094273885, -1.0000277154921262, -1.0000006357720561, -0.9999939346788475, 0.46412509122027806]\n"
     ]
    }
   ],
   "source": [
    "subspace_search = Subspace_search(n_qubits, init_circs, ansatz, ham_heis(n_qubits, 1.0), k)\n",
    "np.random.seed(142)\n",
    "init_params = np.random.rand(len(ansatz.params_name)) - 0.5\n",
    "res = sopt.minimize(subspace_search.evaluate,\n",
    "                    init_params,\n",
    "                    method='l-bfgs-b',\n",
    "                    jac=True,\n",
    "                    options={'disp': False})\n",
    "results = subspace_search.energy(res.x)\n",
    "print(results)\n"
   ]
  },
  {
   "cell_type": "code",
   "execution_count": 23,
   "metadata": {},
   "outputs": [
    {
     "data": {
      "text/plain": [
       "Text(0, 0.5, 'energy')"
      ]
     },
     "execution_count": 23,
     "metadata": {},
     "output_type": "execute_result"
    },
    {
     "data": {
      "image/png": "[encoded data removed]",
      "text/plain": [
       "<Figure size 432x288 with 1 Axes>"
      ]
     },
     "metadata": {
      "needs_background": "light"
     },
     "output_type": "display_data"
    }
   ],
   "source": [
    "theo_result = [-6.464101615137754, -3.8284271247461867, -3.8284271247461867, -3.8284271247461867, -1, -1, -1, 0.4641016151377547]\n",
    "tick_label = ['E0', 'E1', 'E1', 'E1', 'E2', 'E2', 'E2', 'E3']\n",
    "plt.bar(range(len(results)), results, label='approximate', tick_label=tick_label[:len(results)])\n",
    "plt.bar(range(len(results)), theo_result[:len(results)], ec='red', ls='--', lw=2, fill='', label='theory')\n",
    "plt.legend()\n",
    "plt.ylabel('energy')\n"
   ]
  },
  {
   "cell_type": "markdown",
   "metadata": {},
   "source": [
    "# Multistate contracted VQE"
   ]
  },
  {
   "cell_type": "code",
   "execution_count": 24,
   "metadata": {},
   "outputs": [],
   "source": [
    "n_qubits = 4\n",
    "circ_depth = 8\n",
    "single_rot_gate_seq = [RY, RZ]\n",
    "ansatz = HardwareEfficientAnsatz(n_qubits, single_rot_gate_seq, depth=circ_depth).circuit"
   ]
  },
  {
   "cell_type": "code",
   "execution_count": 25,
   "metadata": {},
   "outputs": [],
   "source": [
    "init_circs = []\n",
    "k = 4\n",
    "for i in range(k):\n",
    "    bin_str = f'{{:0{n_qubits}b}}'.format(i)\n",
    "    tmp_circ = Circuit()\n",
    "    for j, c in enumerate(bin_str):\n",
    "        if c == '1':\n",
    "            tmp_circ += X.on(j)\n",
    "    init_circs.append(tmp_circ)"
   ]
  },
  {
   "cell_type": "code",
   "execution_count": 26,
   "metadata": {},
   "outputs": [
    {
     "name": "stdout",
     "output_type": "stream",
     "text": [
      "[-3.8743765919922915, -3.9160236915995084, -4.689398355444785, -5.469526452854694]\n"
     ]
    }
   ],
   "source": [
    "multistate_constracted = Multistate_constracted(n_qubits, init_circs, ansatz, ham_heis(n_qubits, 1.0), k)\n",
    "np.random.seed(514)\n",
    "init_params = np.random.rand(len(ansatz.params_name)) - 0.5\n",
    "res = sopt.minimize(multistate_constracted.evaluate,\n",
    "                    init_params,\n",
    "                    method='l-bfgs-b',\n",
    "                    jac=True,\n",
    "                    options={'disp': False})\n",
    "results = multistate_constracted.energy(res.x)\n",
    "print(results)\n"
   ]
  },
  {
   "cell_type": "code",
   "execution_count": 27,
   "metadata": {},
   "outputs": [
    {
     "name": "stdout",
     "output_type": "stream",
     "text": [
      "[-6.463973918449323, -3.828522007786619, -3.828414721960792, -3.828414443694544]\n"
     ]
    }
   ],
   "source": [
    "ham_sub = multistate_constracted.evaluate_matrics(res.x)\n",
    "approx_result = sorted(sp.linalg.eigvalsh(ham_sub))\n",
    "print(approx_result)"
   ]
  },
  {
   "cell_type": "code",
   "execution_count": 28,
   "metadata": {},
   "outputs": [
    {
     "data": {
      "text/plain": [
       "Text(0, 0.5, 'energy')"
      ]
     },
     "execution_count": 28,
     "metadata": {},
     "output_type": "execute_result"
    },
    {
     "data": {
      "image/png": "[encoded data removed]",
      "text/plain": [
       "<Figure size 432x288 with 1 Axes>"
      ]
     },
     "metadata": {
      "needs_background": "light"
     },
     "output_type": "display_data"
    }
   ],
   "source": [
    "theo_result = [-6.464101615137754, -3.8284271247461867, -3.8284271247461867, -3.8284271247461867, -1, -1, -1, 0.4641016151377547]\n",
    "tick_label = ['E0', 'E1', 'E1', 'E1', 'E2', 'E2', 'E2', 'E3']\n",
    "plt.bar(range(len(approx_result)), approx_result, label='approximate', tick_label=tick_label[:len(approx_result)])\n",
    "plt.bar(range(len(approx_result)), theo_result[:len(approx_result)], ec='red', ls='--', lw=2, fill='', label='theory')\n",
    "plt.legend()\n",
    "plt.ylabel('energy')\n"
   ]
  },
  {
   "cell_type": "markdown",
   "metadata": {},
   "source": [
    "# Orthogonal State Reduction Variational Eigensolver"
   ]
  },
  {
   "cell_type": "code",
   "execution_count": 29,
   "metadata": {},
   "outputs": [],
   "source": [
    "n_qubits = 4\n",
    "circ_depth = 3\n",
    "single_rot_gate_seq = [RY, RZ]\n",
    "ansatz = HardwareEfficientAnsatz(n_qubits, single_rot_gate_seq, depth=circ_depth).circuit\n"
   ]
  },
  {
   "cell_type": "code",
   "execution_count": 30,
   "metadata": {},
   "outputs": [
    {
     "name": "stdout",
     "output_type": "stream",
     "text": [
      "[-6.464101543692045, -3.828427081068745, -3.828427069408479, -3.828426957431073, -1.0000000329991128, -1.000000023124102, -0.9999999692994048]\n"
     ]
    }
   ],
   "source": [
    "orthogonally = Orthogonal_state_reduction(n_qubits, '1100', ham_heis(n_qubits, 1.0))\n",
    "orthogonally.initial_next_eigenstate(ansatz, [])\n",
    "results = []\n",
    "for i in range(7):\n",
    "    np.random.seed(100)\n",
    "    init_params = np.random.rand(len(ansatz.params_name)) - 0.5\n",
    "    res = sopt.minimize(orthogonally.evaluate,\n",
    "                        init_params,\n",
    "                        method='l-bfgs-b',\n",
    "                        jac=True,\n",
    "                        options={'disp': True})\n",
    "    results.append(orthogonally.energy(res.x))\n",
    "    ansatz = HardwareEfficientAnsatz(n_qubits, single_rot_gate_seq, depth=circ_depth).circuit\n",
    "    orthogonally.initial_next_eigenstate(ansatz, res.x)\n",
    "print(results)\n"
   ]
  },
  {
   "cell_type": "code",
   "execution_count": 31,
   "metadata": {},
   "outputs": [
    {
     "data": {
      "text/plain": [
       "Text(0, 0.5, 'energy')"
      ]
     },
     "execution_count": 31,
     "metadata": {},
     "output_type": "execute_result"
    },
    {
     "data": {
      "image/png": "[encoded data removed]",
      "text/plain": [
       "<Figure size 432x288 with 1 Axes>"
      ]
     },
     "metadata": {
      "needs_background": "light"
     },
     "output_type": "display_data"
    }
   ],
   "source": [
    "theo_result = [-6.464101615137754, -3.8284271247461867, -3.8284271247461867, -3.8284271247461867, -1, -1, -1, 0.4641016151377547]\n",
    "tick_label = ['E0', 'E1', 'E1', 'E1', 'E2', 'E2', 'E2', 'E3']\n",
    "plt.bar(range(len(results)), results, label='approximate', tick_label=tick_label[:len(results)])\n",
    "plt.bar(range(len(results)), theo_result[:len(results)], ec='red', ls='--', lw=2, fill='', label='theory')\n",
    "plt.legend()\n",
    "plt.ylabel('energy')"
   ]
  },
  {
   "cell_type": "code",
   "execution_count": null,
   "metadata": {},
   "outputs": [],
   "source": []
  }
 ],
 "metadata": {
  "kernelspec": {
   "display_name": "Python 3",
   "language": "python",
   "name": "python3"
  },
  "language_info": {
   "codemirror_mode": {
    "name": "ipython",
    "version": 3
   },
   "file_extension": ".py",
   "mimetype": "text/x-python",
   "name": "python",
   "nbconvert_exporter": "python",
   "pygments_lexer": "ipython3",
   "version": "3.7.10"
  }
 },
 "nbformat": 4,
 "nbformat_minor": 4
}
